{
 "cells": [
  {
   "cell_type": "markdown",
   "id": "ac6a9b65",
   "metadata": {},
   "source": [
    "Estadistica de documentos\n"
   ]
  },
  {
   "cell_type": "code",
   "execution_count": 27,
   "id": "a6384770",
   "metadata": {},
   "outputs": [],
   "source": [
    "import numpy as np \n",
    "import pandas as pd\n",
    "import statistics as st\n",
    "import matplotlib.pyplot as plt\n",
    "\n"
   ]
  },
  {
   "cell_type": "code",
   "execution_count": 28,
   "id": "7a82d0f5",
   "metadata": {},
   "outputs": [],
   "source": [
    "def cargardatos(datos_tesis):\n",
    "\n",
    "    datos=pd.read_csv(datos_tesis, sep=',')\n",
    "    datos=datos.drop(['LOGICA COMPUTACIONAL','PROGRAMACION I','PROGRAMACION II','PROGRAMACION III'], axis=1)\n",
    "   \n",
    "\n",
    "    return datos"
   ]
  },
  {
   "cell_type": "code",
   "execution_count": 31,
   "id": "7e46c156",
   "metadata": {
    "scrolled": false
   },
   "outputs": [
    {
     "data": {
      "text/html": [
       "<div>\n",
       "<style scoped>\n",
       "    .dataframe tbody tr th:only-of-type {\n",
       "        vertical-align: middle;\n",
       "    }\n",
       "\n",
       "    .dataframe tbody tr th {\n",
       "        vertical-align: top;\n",
       "    }\n",
       "\n",
       "    .dataframe thead th {\n",
       "        text-align: right;\n",
       "    }\n",
       "</style>\n",
       "<table border=\"1\" class=\"dataframe\">\n",
       "  <thead>\n",
       "    <tr style=\"text-align: right;\">\n",
       "      <th></th>\n",
       "      <th>PROMEDIO PROGRAMACIONES</th>\n",
       "      <th>LECTURA CRITICA</th>\n",
       "      <th>MATEMATICA</th>\n",
       "      <th>INGLES</th>\n",
       "      <th>SOCIALES Y CIUDADANIA</th>\n",
       "      <th>CIENCIAS NATURALES</th>\n",
       "    </tr>\n",
       "  </thead>\n",
       "  <tbody>\n",
       "    <tr>\n",
       "      <th>0</th>\n",
       "      <td>3.2</td>\n",
       "      <td>57</td>\n",
       "      <td>66</td>\n",
       "      <td>37</td>\n",
       "      <td>64</td>\n",
       "      <td>54</td>\n",
       "    </tr>\n",
       "    <tr>\n",
       "      <th>1</th>\n",
       "      <td>3.5</td>\n",
       "      <td>44</td>\n",
       "      <td>67</td>\n",
       "      <td>57</td>\n",
       "      <td>52</td>\n",
       "      <td>63</td>\n",
       "    </tr>\n",
       "    <tr>\n",
       "      <th>2</th>\n",
       "      <td>3.9</td>\n",
       "      <td>72</td>\n",
       "      <td>66</td>\n",
       "      <td>46</td>\n",
       "      <td>73</td>\n",
       "      <td>70</td>\n",
       "    </tr>\n",
       "    <tr>\n",
       "      <th>3</th>\n",
       "      <td>3.7</td>\n",
       "      <td>56</td>\n",
       "      <td>66</td>\n",
       "      <td>55</td>\n",
       "      <td>52</td>\n",
       "      <td>59</td>\n",
       "    </tr>\n",
       "    <tr>\n",
       "      <th>4</th>\n",
       "      <td>3.1</td>\n",
       "      <td>63</td>\n",
       "      <td>66</td>\n",
       "      <td>36</td>\n",
       "      <td>62</td>\n",
       "      <td>55</td>\n",
       "    </tr>\n",
       "    <tr>\n",
       "      <th>5</th>\n",
       "      <td>3.8</td>\n",
       "      <td>59</td>\n",
       "      <td>72</td>\n",
       "      <td>59</td>\n",
       "      <td>61</td>\n",
       "      <td>63</td>\n",
       "    </tr>\n",
       "    <tr>\n",
       "      <th>6</th>\n",
       "      <td>3.8</td>\n",
       "      <td>66</td>\n",
       "      <td>71</td>\n",
       "      <td>75</td>\n",
       "      <td>67</td>\n",
       "      <td>67</td>\n",
       "    </tr>\n",
       "    <tr>\n",
       "      <th>7</th>\n",
       "      <td>3.5</td>\n",
       "      <td>54</td>\n",
       "      <td>59</td>\n",
       "      <td>45</td>\n",
       "      <td>49</td>\n",
       "      <td>49</td>\n",
       "    </tr>\n",
       "    <tr>\n",
       "      <th>8</th>\n",
       "      <td>3.5</td>\n",
       "      <td>32</td>\n",
       "      <td>47</td>\n",
       "      <td>34</td>\n",
       "      <td>44</td>\n",
       "      <td>55</td>\n",
       "    </tr>\n",
       "    <tr>\n",
       "      <th>9</th>\n",
       "      <td>3.5</td>\n",
       "      <td>64</td>\n",
       "      <td>59</td>\n",
       "      <td>60</td>\n",
       "      <td>62</td>\n",
       "      <td>64</td>\n",
       "    </tr>\n",
       "    <tr>\n",
       "      <th>10</th>\n",
       "      <td>3.9</td>\n",
       "      <td>61</td>\n",
       "      <td>72</td>\n",
       "      <td>75</td>\n",
       "      <td>67</td>\n",
       "      <td>63</td>\n",
       "    </tr>\n",
       "    <tr>\n",
       "      <th>11</th>\n",
       "      <td>3.7</td>\n",
       "      <td>65</td>\n",
       "      <td>61</td>\n",
       "      <td>63</td>\n",
       "      <td>62</td>\n",
       "      <td>64</td>\n",
       "    </tr>\n",
       "    <tr>\n",
       "      <th>12</th>\n",
       "      <td>2.8</td>\n",
       "      <td>53</td>\n",
       "      <td>58</td>\n",
       "      <td>38</td>\n",
       "      <td>50</td>\n",
       "      <td>51</td>\n",
       "    </tr>\n",
       "    <tr>\n",
       "      <th>13</th>\n",
       "      <td>3.3</td>\n",
       "      <td>56</td>\n",
       "      <td>74</td>\n",
       "      <td>54</td>\n",
       "      <td>50</td>\n",
       "      <td>38</td>\n",
       "    </tr>\n",
       "    <tr>\n",
       "      <th>14</th>\n",
       "      <td>3.6</td>\n",
       "      <td>53</td>\n",
       "      <td>40</td>\n",
       "      <td>55</td>\n",
       "      <td>60</td>\n",
       "      <td>44</td>\n",
       "    </tr>\n",
       "    <tr>\n",
       "      <th>15</th>\n",
       "      <td>3.5</td>\n",
       "      <td>73</td>\n",
       "      <td>80</td>\n",
       "      <td>76</td>\n",
       "      <td>64</td>\n",
       "      <td>70</td>\n",
       "    </tr>\n",
       "    <tr>\n",
       "      <th>16</th>\n",
       "      <td>3.5</td>\n",
       "      <td>73</td>\n",
       "      <td>80</td>\n",
       "      <td>76</td>\n",
       "      <td>64</td>\n",
       "      <td>70</td>\n",
       "    </tr>\n",
       "    <tr>\n",
       "      <th>17</th>\n",
       "      <td>3.4</td>\n",
       "      <td>65</td>\n",
       "      <td>74</td>\n",
       "      <td>56</td>\n",
       "      <td>49</td>\n",
       "      <td>69</td>\n",
       "    </tr>\n",
       "    <tr>\n",
       "      <th>18</th>\n",
       "      <td>3.1</td>\n",
       "      <td>46</td>\n",
       "      <td>50</td>\n",
       "      <td>54</td>\n",
       "      <td>41</td>\n",
       "      <td>50</td>\n",
       "    </tr>\n",
       "    <tr>\n",
       "      <th>19</th>\n",
       "      <td>3.4</td>\n",
       "      <td>49</td>\n",
       "      <td>63</td>\n",
       "      <td>49</td>\n",
       "      <td>56</td>\n",
       "      <td>53</td>\n",
       "    </tr>\n",
       "    <tr>\n",
       "      <th>20</th>\n",
       "      <td>3.2</td>\n",
       "      <td>46</td>\n",
       "      <td>55</td>\n",
       "      <td>47</td>\n",
       "      <td>46</td>\n",
       "      <td>51</td>\n",
       "    </tr>\n",
       "    <tr>\n",
       "      <th>21</th>\n",
       "      <td>3.6</td>\n",
       "      <td>64</td>\n",
       "      <td>71</td>\n",
       "      <td>48</td>\n",
       "      <td>66</td>\n",
       "      <td>61</td>\n",
       "    </tr>\n",
       "    <tr>\n",
       "      <th>22</th>\n",
       "      <td>3.7</td>\n",
       "      <td>70</td>\n",
       "      <td>62</td>\n",
       "      <td>56</td>\n",
       "      <td>57</td>\n",
       "      <td>64</td>\n",
       "    </tr>\n",
       "    <tr>\n",
       "      <th>23</th>\n",
       "      <td>3.9</td>\n",
       "      <td>71</td>\n",
       "      <td>64</td>\n",
       "      <td>69</td>\n",
       "      <td>63</td>\n",
       "      <td>68</td>\n",
       "    </tr>\n",
       "    <tr>\n",
       "      <th>24</th>\n",
       "      <td>3.5</td>\n",
       "      <td>72</td>\n",
       "      <td>71</td>\n",
       "      <td>71</td>\n",
       "      <td>65</td>\n",
       "      <td>73</td>\n",
       "    </tr>\n",
       "    <tr>\n",
       "      <th>25</th>\n",
       "      <td>3.6</td>\n",
       "      <td>59</td>\n",
       "      <td>53</td>\n",
       "      <td>56</td>\n",
       "      <td>47</td>\n",
       "      <td>59</td>\n",
       "    </tr>\n",
       "    <tr>\n",
       "      <th>26</th>\n",
       "      <td>3.8</td>\n",
       "      <td>61</td>\n",
       "      <td>70</td>\n",
       "      <td>50</td>\n",
       "      <td>85</td>\n",
       "      <td>75</td>\n",
       "    </tr>\n",
       "    <tr>\n",
       "      <th>27</th>\n",
       "      <td>3.9</td>\n",
       "      <td>63</td>\n",
       "      <td>58</td>\n",
       "      <td>65</td>\n",
       "      <td>61</td>\n",
       "      <td>65</td>\n",
       "    </tr>\n",
       "    <tr>\n",
       "      <th>28</th>\n",
       "      <td>3.8</td>\n",
       "      <td>65</td>\n",
       "      <td>65</td>\n",
       "      <td>80</td>\n",
       "      <td>76</td>\n",
       "      <td>83</td>\n",
       "    </tr>\n",
       "    <tr>\n",
       "      <th>29</th>\n",
       "      <td>3.6</td>\n",
       "      <td>47</td>\n",
       "      <td>68</td>\n",
       "      <td>56</td>\n",
       "      <td>60</td>\n",
       "      <td>65</td>\n",
       "    </tr>\n",
       "    <tr>\n",
       "      <th>30</th>\n",
       "      <td>3.9</td>\n",
       "      <td>55</td>\n",
       "      <td>56</td>\n",
       "      <td>55</td>\n",
       "      <td>74</td>\n",
       "      <td>64</td>\n",
       "    </tr>\n",
       "    <tr>\n",
       "      <th>31</th>\n",
       "      <td>3.5</td>\n",
       "      <td>40</td>\n",
       "      <td>60</td>\n",
       "      <td>49</td>\n",
       "      <td>47</td>\n",
       "      <td>45</td>\n",
       "    </tr>\n",
       "    <tr>\n",
       "      <th>32</th>\n",
       "      <td>3.4</td>\n",
       "      <td>78</td>\n",
       "      <td>77</td>\n",
       "      <td>35</td>\n",
       "      <td>63</td>\n",
       "      <td>78</td>\n",
       "    </tr>\n",
       "    <tr>\n",
       "      <th>33</th>\n",
       "      <td>3.2</td>\n",
       "      <td>58</td>\n",
       "      <td>62</td>\n",
       "      <td>53</td>\n",
       "      <td>62</td>\n",
       "      <td>60</td>\n",
       "    </tr>\n",
       "    <tr>\n",
       "      <th>34</th>\n",
       "      <td>3.6</td>\n",
       "      <td>46</td>\n",
       "      <td>67</td>\n",
       "      <td>56</td>\n",
       "      <td>55</td>\n",
       "      <td>60</td>\n",
       "    </tr>\n",
       "    <tr>\n",
       "      <th>35</th>\n",
       "      <td>3.3</td>\n",
       "      <td>50</td>\n",
       "      <td>45</td>\n",
       "      <td>51</td>\n",
       "      <td>35</td>\n",
       "      <td>32</td>\n",
       "    </tr>\n",
       "    <tr>\n",
       "      <th>36</th>\n",
       "      <td>4.2</td>\n",
       "      <td>56</td>\n",
       "      <td>70</td>\n",
       "      <td>50</td>\n",
       "      <td>60</td>\n",
       "      <td>63</td>\n",
       "    </tr>\n",
       "    <tr>\n",
       "      <th>37</th>\n",
       "      <td>3.5</td>\n",
       "      <td>58</td>\n",
       "      <td>52</td>\n",
       "      <td>41</td>\n",
       "      <td>64</td>\n",
       "      <td>54</td>\n",
       "    </tr>\n",
       "    <tr>\n",
       "      <th>38</th>\n",
       "      <td>3.7</td>\n",
       "      <td>50</td>\n",
       "      <td>49</td>\n",
       "      <td>39</td>\n",
       "      <td>43</td>\n",
       "      <td>53</td>\n",
       "    </tr>\n",
       "    <tr>\n",
       "      <th>39</th>\n",
       "      <td>3.1</td>\n",
       "      <td>44</td>\n",
       "      <td>61</td>\n",
       "      <td>56</td>\n",
       "      <td>68</td>\n",
       "      <td>59</td>\n",
       "    </tr>\n",
       "    <tr>\n",
       "      <th>40</th>\n",
       "      <td>3.4</td>\n",
       "      <td>55</td>\n",
       "      <td>64</td>\n",
       "      <td>50</td>\n",
       "      <td>53</td>\n",
       "      <td>62</td>\n",
       "    </tr>\n",
       "    <tr>\n",
       "      <th>41</th>\n",
       "      <td>3.2</td>\n",
       "      <td>48</td>\n",
       "      <td>56</td>\n",
       "      <td>60</td>\n",
       "      <td>55</td>\n",
       "      <td>37</td>\n",
       "    </tr>\n",
       "    <tr>\n",
       "      <th>42</th>\n",
       "      <td>3.5</td>\n",
       "      <td>55</td>\n",
       "      <td>58</td>\n",
       "      <td>41</td>\n",
       "      <td>45</td>\n",
       "      <td>43</td>\n",
       "    </tr>\n",
       "    <tr>\n",
       "      <th>43</th>\n",
       "      <td>3.5</td>\n",
       "      <td>56</td>\n",
       "      <td>76</td>\n",
       "      <td>87</td>\n",
       "      <td>45</td>\n",
       "      <td>65</td>\n",
       "    </tr>\n",
       "    <tr>\n",
       "      <th>44</th>\n",
       "      <td>3.5</td>\n",
       "      <td>57</td>\n",
       "      <td>59</td>\n",
       "      <td>51</td>\n",
       "      <td>53</td>\n",
       "      <td>67</td>\n",
       "    </tr>\n",
       "    <tr>\n",
       "      <th>45</th>\n",
       "      <td>4.2</td>\n",
       "      <td>70</td>\n",
       "      <td>74</td>\n",
       "      <td>76</td>\n",
       "      <td>72</td>\n",
       "      <td>68</td>\n",
       "    </tr>\n",
       "    <tr>\n",
       "      <th>46</th>\n",
       "      <td>3.9</td>\n",
       "      <td>65</td>\n",
       "      <td>75</td>\n",
       "      <td>76</td>\n",
       "      <td>70</td>\n",
       "      <td>70</td>\n",
       "    </tr>\n",
       "    <tr>\n",
       "      <th>47</th>\n",
       "      <td>3.6</td>\n",
       "      <td>62</td>\n",
       "      <td>69</td>\n",
       "      <td>64</td>\n",
       "      <td>66</td>\n",
       "      <td>63</td>\n",
       "    </tr>\n",
       "    <tr>\n",
       "      <th>48</th>\n",
       "      <td>3.9</td>\n",
       "      <td>65</td>\n",
       "      <td>75</td>\n",
       "      <td>76</td>\n",
       "      <td>70</td>\n",
       "      <td>70</td>\n",
       "    </tr>\n",
       "    <tr>\n",
       "      <th>49</th>\n",
       "      <td>3.9</td>\n",
       "      <td>53</td>\n",
       "      <td>67</td>\n",
       "      <td>66</td>\n",
       "      <td>58</td>\n",
       "      <td>65</td>\n",
       "    </tr>\n",
       "    <tr>\n",
       "      <th>50</th>\n",
       "      <td>3.6</td>\n",
       "      <td>60</td>\n",
       "      <td>67</td>\n",
       "      <td>60</td>\n",
       "      <td>53</td>\n",
       "      <td>60</td>\n",
       "    </tr>\n",
       "    <tr>\n",
       "      <th>51</th>\n",
       "      <td>3.5</td>\n",
       "      <td>64</td>\n",
       "      <td>75</td>\n",
       "      <td>65</td>\n",
       "      <td>53</td>\n",
       "      <td>63</td>\n",
       "    </tr>\n",
       "    <tr>\n",
       "      <th>52</th>\n",
       "      <td>3.5</td>\n",
       "      <td>64</td>\n",
       "      <td>75</td>\n",
       "      <td>65</td>\n",
       "      <td>53</td>\n",
       "      <td>63</td>\n",
       "    </tr>\n",
       "    <tr>\n",
       "      <th>53</th>\n",
       "      <td>3.2</td>\n",
       "      <td>56</td>\n",
       "      <td>70</td>\n",
       "      <td>65</td>\n",
       "      <td>50</td>\n",
       "      <td>50</td>\n",
       "    </tr>\n",
       "    <tr>\n",
       "      <th>54</th>\n",
       "      <td>3.2</td>\n",
       "      <td>55</td>\n",
       "      <td>59</td>\n",
       "      <td>44</td>\n",
       "      <td>56</td>\n",
       "      <td>61</td>\n",
       "    </tr>\n",
       "    <tr>\n",
       "      <th>55</th>\n",
       "      <td>3.7</td>\n",
       "      <td>54</td>\n",
       "      <td>43</td>\n",
       "      <td>37</td>\n",
       "      <td>55</td>\n",
       "      <td>52</td>\n",
       "    </tr>\n",
       "    <tr>\n",
       "      <th>56</th>\n",
       "      <td>3.3</td>\n",
       "      <td>63</td>\n",
       "      <td>64</td>\n",
       "      <td>52</td>\n",
       "      <td>72</td>\n",
       "      <td>69</td>\n",
       "    </tr>\n",
       "    <tr>\n",
       "      <th>57</th>\n",
       "      <td>3.5</td>\n",
       "      <td>58</td>\n",
       "      <td>65</td>\n",
       "      <td>51</td>\n",
       "      <td>63</td>\n",
       "      <td>60</td>\n",
       "    </tr>\n",
       "    <tr>\n",
       "      <th>58</th>\n",
       "      <td>3.3</td>\n",
       "      <td>63</td>\n",
       "      <td>74</td>\n",
       "      <td>51</td>\n",
       "      <td>55</td>\n",
       "      <td>64</td>\n",
       "    </tr>\n",
       "  </tbody>\n",
       "</table>\n",
       "</div>"
      ],
      "text/plain": [
       "    PROMEDIO PROGRAMACIONES  LECTURA CRITICA  MATEMATICA  INGLES  \\\n",
       "0                       3.2               57          66      37   \n",
       "1                       3.5               44          67      57   \n",
       "2                       3.9               72          66      46   \n",
       "3                       3.7               56          66      55   \n",
       "4                       3.1               63          66      36   \n",
       "5                       3.8               59          72      59   \n",
       "6                       3.8               66          71      75   \n",
       "7                       3.5               54          59      45   \n",
       "8                       3.5               32          47      34   \n",
       "9                       3.5               64          59      60   \n",
       "10                      3.9               61          72      75   \n",
       "11                      3.7               65          61      63   \n",
       "12                      2.8               53          58      38   \n",
       "13                      3.3               56          74      54   \n",
       "14                      3.6               53          40      55   \n",
       "15                      3.5               73          80      76   \n",
       "16                      3.5               73          80      76   \n",
       "17                      3.4               65          74      56   \n",
       "18                      3.1               46          50      54   \n",
       "19                      3.4               49          63      49   \n",
       "20                      3.2               46          55      47   \n",
       "21                      3.6               64          71      48   \n",
       "22                      3.7               70          62      56   \n",
       "23                      3.9               71          64      69   \n",
       "24                      3.5               72          71      71   \n",
       "25                      3.6               59          53      56   \n",
       "26                      3.8               61          70      50   \n",
       "27                      3.9               63          58      65   \n",
       "28                      3.8               65          65      80   \n",
       "29                      3.6               47          68      56   \n",
       "30                      3.9               55          56      55   \n",
       "31                      3.5               40          60      49   \n",
       "32                      3.4               78          77      35   \n",
       "33                      3.2               58          62      53   \n",
       "34                      3.6               46          67      56   \n",
       "35                      3.3               50          45      51   \n",
       "36                      4.2               56          70      50   \n",
       "37                      3.5               58          52      41   \n",
       "38                      3.7               50          49      39   \n",
       "39                      3.1               44          61      56   \n",
       "40                      3.4               55          64      50   \n",
       "41                      3.2               48          56      60   \n",
       "42                      3.5               55          58      41   \n",
       "43                      3.5               56          76      87   \n",
       "44                      3.5               57          59      51   \n",
       "45                      4.2               70          74      76   \n",
       "46                      3.9               65          75      76   \n",
       "47                      3.6               62          69      64   \n",
       "48                      3.9               65          75      76   \n",
       "49                      3.9               53          67      66   \n",
       "50                      3.6               60          67      60   \n",
       "51                      3.5               64          75      65   \n",
       "52                      3.5               64          75      65   \n",
       "53                      3.2               56          70      65   \n",
       "54                      3.2               55          59      44   \n",
       "55                      3.7               54          43      37   \n",
       "56                      3.3               63          64      52   \n",
       "57                      3.5               58          65      51   \n",
       "58                      3.3               63          74      51   \n",
       "\n",
       "    SOCIALES Y CIUDADANIA  CIENCIAS NATURALES  \n",
       "0                      64                  54  \n",
       "1                      52                  63  \n",
       "2                      73                  70  \n",
       "3                      52                  59  \n",
       "4                      62                  55  \n",
       "5                      61                  63  \n",
       "6                      67                  67  \n",
       "7                      49                  49  \n",
       "8                      44                  55  \n",
       "9                      62                  64  \n",
       "10                     67                  63  \n",
       "11                     62                  64  \n",
       "12                     50                  51  \n",
       "13                     50                  38  \n",
       "14                     60                  44  \n",
       "15                     64                  70  \n",
       "16                     64                  70  \n",
       "17                     49                  69  \n",
       "18                     41                  50  \n",
       "19                     56                  53  \n",
       "20                     46                  51  \n",
       "21                     66                  61  \n",
       "22                     57                  64  \n",
       "23                     63                  68  \n",
       "24                     65                  73  \n",
       "25                     47                  59  \n",
       "26                     85                  75  \n",
       "27                     61                  65  \n",
       "28                     76                  83  \n",
       "29                     60                  65  \n",
       "30                     74                  64  \n",
       "31                     47                  45  \n",
       "32                     63                  78  \n",
       "33                     62                  60  \n",
       "34                     55                  60  \n",
       "35                     35                  32  \n",
       "36                     60                  63  \n",
       "37                     64                  54  \n",
       "38                     43                  53  \n",
       "39                     68                  59  \n",
       "40                     53                  62  \n",
       "41                     55                  37  \n",
       "42                     45                  43  \n",
       "43                     45                  65  \n",
       "44                     53                  67  \n",
       "45                     72                  68  \n",
       "46                     70                  70  \n",
       "47                     66                  63  \n",
       "48                     70                  70  \n",
       "49                     58                  65  \n",
       "50                     53                  60  \n",
       "51                     53                  63  \n",
       "52                     53                  63  \n",
       "53                     50                  50  \n",
       "54                     56                  61  \n",
       "55                     55                  52  \n",
       "56                     72                  69  \n",
       "57                     63                  60  \n",
       "58                     55                  64  "
      ]
     },
     "execution_count": 31,
     "metadata": {},
     "output_type": "execute_result"
    }
   ],
   "source": [
    "dt=cargardatos('Datos-Tesis.csv')\n",
    "dt\n",
    "\n"
   ]
  },
  {
   "cell_type": "code",
   "execution_count": 32,
   "id": "015deee8",
   "metadata": {},
   "outputs": [
    {
     "data": {
      "image/png": "[encoded data removed]",
      "text/plain": [
       "<Figure size 432x288 with 1 Axes>"
      ]
     },
     "metadata": {
      "needs_background": "light"
     },
     "output_type": "display_data"
    }
   ],
   "source": [
    "my_plot = dt.plot(\"PROMEDIO PROGRAMACIONES\", \"LECTURA CRITICA\", kind=\"scatter\")\n",
    "plt.show() # no necesariamente en Jupyter Notebooks\n",
    "\n"
   ]
  },
  {
   "cell_type": "code",
   "execution_count": 33,
   "id": "1ed72408",
   "metadata": {},
   "outputs": [
    {
     "data": {
      "image/png": "[encoded data removed]",
      "text/plain": [
       "<Figure size 432x288 with 1 Axes>"
      ]
     },
     "metadata": {
      "needs_background": "light"
     },
     "output_type": "display_data"
    }
   ],
   "source": [
    "#surveys = pd.read_csv(\"data/surveys.csv\")\n",
    "my_plot = dt.plot(\"PROMEDIO PROGRAMACIONES\", \"MATEMATICA\", kind=\"scatter\")\n",
    "plt.show() # no necesariamente en Jupyter Notebooks\n",
    "\n"
   ]
  },
  {
   "cell_type": "code",
   "execution_count": null,
   "id": "86776e2f",
   "metadata": {},
   "outputs": [],
   "source": []
  },
  {
   "cell_type": "code",
   "execution_count": 34,
   "id": "5c9b65ec",
   "metadata": {},
   "outputs": [
    {
     "data": {
      "image/png": "[encoded data removed]",
      "text/plain": [
       "<Figure size 432x288 with 1 Axes>"
      ]
     },
     "metadata": {
      "needs_background": "light"
     },
     "output_type": "display_data"
    }
   ],
   "source": [
    "#surveys = pd.read_csv(\"data/surveys.csv\")\n",
    "my_plot = dt.plot(\"PROMEDIO PROGRAMACIONES\", \"INGLES\", kind=\"scatter\")\n",
    "plt.show() # no necesariamente en Jupyter Notebooks\n",
    "\n"
   ]
  },
  {
   "cell_type": "code",
   "execution_count": 35,
   "id": "9a65fd49",
   "metadata": {},
   "outputs": [
    {
     "data": {
      "image/png": "[encoded data removed]",
      "text/plain": [
       "<Figure size 432x288 with 1 Axes>"
      ]
     },
     "metadata": {
      "needs_background": "light"
     },
     "output_type": "display_data"
    }
   ],
   "source": [
    "#surveys = pd.read_csv(\"data/surveys.csv\")\n",
    "my_plot = dt.plot(\"PROMEDIO PROGRAMACIONES\", \"SOCIALES Y CIUDADANIA\", kind=\"scatter\")\n",
    "plt.show() # no necesariamente en Jupyter Notebooks\n",
    "\n"
   ]
  },
  {
   "cell_type": "code",
   "execution_count": 36,
   "id": "4e159667",
   "metadata": {},
   "outputs": [
    {
     "data": {
      "image/png": "[encoded data removed]",
      "text/plain": [
       "<Figure size 432x288 with 1 Axes>"
      ]
     },
     "metadata": {
      "needs_background": "light"
     },
     "output_type": "display_data"
    }
   ],
   "source": [
    "#surveys = pd.read_csv(\"data/surveys.csv\")\n",
    "my_plot = dt.plot(\"PROMEDIO PROGRAMACIONES\", \"CIENCIAS NATURALES\", kind=\"scatter\")\n",
    "plt.show() # no necesariamente en Jupyter Notebooks\n",
    "\n"
   ]
  },
  {
   "cell_type": "code",
   "execution_count": null,
   "id": "d49d74e9",
   "metadata": {},
   "outputs": [],
   "source": []
  },
  {
   "cell_type": "code",
   "execution_count": 37,
   "id": "39a2cae2",
   "metadata": {},
   "outputs": [
    {
     "data": {
      "image/png": "[encoded data removed]",
      "text/plain": [
       "<Figure size 432x288 with 1 Axes>"
      ]
     },
     "metadata": {
      "needs_background": "light"
     },
     "output_type": "display_data"
    }
   ],
   "source": [
    "plt.show() # no necesariamente en Jupyter Notebooks\n",
    "surveys = pd.read_csv(\"Datos-tesis-clasificador.csv\")\n",
    "my_plot = surveys.plot(\"PROMEDIO PROGRAMACIONES\", \"LECTURA CRITICA\",kind=\"scatter\")\n"
   ]
  },
  {
   "cell_type": "markdown",
   "id": "214ed8cc",
   "metadata": {},
   "source": [
    "clase-con cada uno de los atrinutos (dispersion)"
   ]
  },
  {
   "cell_type": "code",
   "execution_count": null,
   "id": "2bb2bfc9",
   "metadata": {},
   "outputs": [],
   "source": []
  },
  {
   "cell_type": "code",
   "execution_count": 38,
   "id": "607abb61",
   "metadata": {},
   "outputs": [
    {
     "data": {
      "text/plain": [
       "Text(0.5, 0, 'Resultado_en_lectura_critica')"
      ]
     },
     "execution_count": 38,
     "metadata": {},
     "output_type": "execute_result"
    },
    {
     "data": {
      "image/png": "[encoded data removed]",
      "text/plain": [
       "<Figure size 432x288 with 1 Axes>"
      ]
     },
     "metadata": {
      "needs_background": "light"
     },
     "output_type": "display_data"
    }
   ],
   "source": [
    "fig, ax1 = plt.subplots() \n",
    "ax1.hist(dt[\"LECTURA CRITICA\"])\n",
    "ax1.set_ylabel('Numero_de_estudiantes')\n",
    "ax1.set_xlabel('Resultado_en_lectura_critica')\n"
   ]
  },
  {
   "cell_type": "code",
   "execution_count": null,
   "id": "eff3b25c",
   "metadata": {},
   "outputs": [],
   "source": []
  },
  {
   "cell_type": "code",
   "execution_count": 39,
   "id": "555c2812",
   "metadata": {},
   "outputs": [
    {
     "name": "stdout",
     "output_type": "stream",
     "text": [
      "q1:  32 - 53.0\n",
      "q2:  53.0 - 58.0\n",
      "q3:  58.0 - 64.0\n",
      "q4:  64.0 - 78\n"
     ]
    }
   ],
   "source": [
    "cuartiles=st.quantiles(dt[\"LECTURA CRITICA\"])\n",
    "minimo=np.min(dt[\"LECTURA CRITICA\"])\n",
    "maximo=np.max(dt[\"LECTURA CRITICA\"])\n",
    "print(\"q1: \",minimo,\"-\",cuartiles[0])\n",
    "print(\"q2: \",cuartiles[0],\"-\",cuartiles[1])\n",
    "print(\"q3: \",cuartiles[1],\"-\",cuartiles[2])\n",
    "print(\"q4: \",cuartiles[2],\"-\",maximo)"
   ]
  },
  {
   "cell_type": "code",
   "execution_count": 66,
   "id": "bdf0c53e",
   "metadata": {},
   "outputs": [
    {
     "data": {
      "text/plain": [
       "32"
      ]
     },
     "execution_count": 66,
     "metadata": {},
     "output_type": "execute_result"
    }
   ],
   "source": [
    "np.min(dt[\"LECTURA CRITICA\"])"
   ]
  },
  {
   "cell_type": "code",
   "execution_count": 67,
   "id": "5ae11af1",
   "metadata": {},
   "outputs": [
    {
     "data": {
      "text/plain": [
       "78"
      ]
     },
     "execution_count": 67,
     "metadata": {},
     "output_type": "execute_result"
    }
   ],
   "source": [
    "np.max(dt[\"LECTURA CRITICA\"])"
   ]
  },
  {
   "cell_type": "code",
   "execution_count": 32,
   "id": "46c4391e",
   "metadata": {},
   "outputs": [
    {
     "data": {
      "text/plain": [
       "Text(0.5, 18.106250000000003, 'Resultado_en_Matematica')"
      ]
     },
     "execution_count": 32,
     "metadata": {},
     "output_type": "execute_result"
    },
    {
     "data": {
      "image/png": "[encoded data removed]",
      "text/plain": [
       "<Figure size 432x288 with 1 Axes>"
      ]
     },
     "metadata": {
      "needs_background": "light"
     },
     "output_type": "display_data"
    }
   ],
   "source": [
    "plt.hist(dt[\"MATEMATICA\"])\n",
    "ax1.hist(dt[\"MATEMATICA\"])\n",
    "ax1.set_ylabel('Numero_de_estudiantes')\n",
    "ax1.set_xlabel('Resultado_en_Matematica')"
   ]
  },
  {
   "cell_type": "code",
   "execution_count": null,
   "id": "9338b76c",
   "metadata": {},
   "outputs": [],
   "source": []
  },
  {
   "cell_type": "code",
   "execution_count": 33,
   "id": "cc49e330",
   "metadata": {},
   "outputs": [
    {
     "name": "stdout",
     "output_type": "stream",
     "text": [
      "q1:  40 - 59.0\n",
      "q2:  59.0 - 66.0\n",
      "q3:  66.0 - 71.0\n",
      "q4:  71.0 - 80\n"
     ]
    }
   ],
   "source": [
    "cuartiles=st.quantiles(dt[\"MATEMATICA\"])\n",
    "minimo=np.min(dt[\"MATEMATICA\"])\n",
    "minimo=np.min(dt[\"MATEMATICA\"])\n",
    "maximo=np.max(dt[\"MATEMATICA\"])\n",
    "print(\"q1: \",minimo,\"-\",cuartiles[0])\n",
    "print(\"q2: \",cuartiles[0],\"-\",cuartiles[1])\n",
    "print(\"q3: \",cuartiles[1],\"-\",cuartiles[2])\n",
    "print(\"q4: \",cuartiles[2],\"-\",maximo)"
   ]
  },
  {
   "cell_type": "code",
   "execution_count": null,
   "id": "df7048fe",
   "metadata": {},
   "outputs": [],
   "source": []
  },
  {
   "cell_type": "code",
   "execution_count": 70,
   "id": "f0542bc9",
   "metadata": {
    "scrolled": true
   },
   "outputs": [
    {
     "data": {
      "text/plain": [
       "(array([ 7.,  3.,  6., 14., 11.,  6.,  3.,  7.,  1.,  1.]),\n",
       " array([34. , 39.3, 44.6, 49.9, 55.2, 60.5, 65.8, 71.1, 76.4, 81.7, 87. ]),\n",
       " <BarContainer object of 10 artists>)"
      ]
     },
     "execution_count": 70,
     "metadata": {},
     "output_type": "execute_result"
    },
    {
     "data": {
      "image/png": "[encoded data removed]",
      "text/plain": [
       "<Figure size 432x288 with 1 Axes>"
      ]
     },
     "metadata": {
      "needs_background": "light"
     },
     "output_type": "display_data"
    }
   ],
   "source": [
    "plt.hist(dt[\"INGLES\"])"
   ]
  },
  {
   "cell_type": "code",
   "execution_count": 71,
   "id": "e863549a",
   "metadata": {},
   "outputs": [
    {
     "name": "stdout",
     "output_type": "stream",
     "text": [
      "q1:  34 - 49.0\n",
      "q2:  49.0 - 55.0\n",
      "q3:  55.0 - 65.0\n",
      "q4:  65.0 - 87\n"
     ]
    }
   ],
   "source": [
    "cuartiles=st.quantiles(dt[\"INGLES\"])\n",
    "minimo=np.min(dt[\"INGLES\"])\n",
    "minimo=np.min(dt[\"INGLES\"])\n",
    "maximo=np.max(dt[\"INGLES\"])\n",
    "print(\"q1: \",minimo,\"-\",cuartiles[0])\n",
    "print(\"q2: \",cuartiles[0],\"-\",cuartiles[1])\n",
    "print(\"q3: \",cuartiles[1],\"-\",cuartiles[2])\n",
    "print(\"q4: \",cuartiles[2],\"-\",maximo)"
   ]
  },
  {
   "cell_type": "code",
   "execution_count": null,
   "id": "82d1b7f2",
   "metadata": {},
   "outputs": [],
   "source": []
  },
  {
   "cell_type": "code",
   "execution_count": 111,
   "id": "33f26f1b",
   "metadata": {},
   "outputs": [
    {
     "data": {
      "text/plain": [
       "(array([ 1.,  3.,  7., 11.,  7., 16.,  6.,  6.,  1.,  1.]),\n",
       " array([35., 40., 45., 50., 55., 60., 65., 70., 75., 80., 85.]),\n",
       " <BarContainer object of 10 artists>)"
      ]
     },
     "execution_count": 111,
     "metadata": {},
     "output_type": "execute_result"
    },
    {
     "data": {
      "image/png": "[encoded data removed]",
      "text/plain": [
       "<Figure size 432x288 with 1 Axes>"
      ]
     },
     "metadata": {
      "needs_background": "light"
     },
     "output_type": "display_data"
    }
   ],
   "source": [
    "plt.hist(dt[\"SOCIALES Y CIUDADANIA\"])"
   ]
  },
  {
   "cell_type": "code",
   "execution_count": 113,
   "id": "1128f181",
   "metadata": {},
   "outputs": [
    {
     "name": "stdout",
     "output_type": "stream",
     "text": [
      "q1:  35 - 50.0\n",
      "q2:  50.0 - 60.0\n",
      "q3:  60.0 - 64.0\n",
      "q4:  64.0 - 85\n"
     ]
    }
   ],
   "source": [
    "cuartiles=st.quantiles(dt[\"SOCIALES Y CIUDADANIA\"])\n",
    "minimo=np.min(dt[\"SOCIALES Y CIUDADANIA\"])\n",
    "minimo=np.min(dt[\"SOCIALES Y CIUDADANIA\"])\n",
    "maximo=np.max(dt[\"SOCIALES Y CIUDADANIA\"])\n",
    "print(\"q1: \",minimo,\"-\",cuartiles[0])\n",
    "print(\"q2: \",cuartiles[0],\"-\",cuartiles[1])\n",
    "print(\"q3: \",cuartiles[1],\"-\",cuartiles[2])\n",
    "print(\"q4: \",cuartiles[2],\"-\",maximo)"
   ]
  },
  {
   "cell_type": "code",
   "execution_count": null,
   "id": "95b5fb78",
   "metadata": {},
   "outputs": [],
   "source": []
  },
  {
   "cell_type": "code",
   "execution_count": 74,
   "id": "159dd7e7",
   "metadata": {},
   "outputs": [
    {
     "data": {
      "text/plain": [
       "(array([ 2.,  1.,  3.,  6.,  6., 10., 18.,  9.,  2.,  2.]),\n",
       " array([32. , 37.1, 42.2, 47.3, 52.4, 57.5, 62.6, 67.7, 72.8, 77.9, 83. ]),\n",
       " <BarContainer object of 10 artists>)"
      ]
     },
     "execution_count": 74,
     "metadata": {},
     "output_type": "execute_result"
    },
    {
     "data": {
      "image/png": "[encoded data removed]",
      "text/plain": [
       "<Figure size 432x288 with 1 Axes>"
      ]
     },
     "metadata": {
      "needs_background": "light"
     },
     "output_type": "display_data"
    }
   ],
   "source": [
    "plt.hist(dt[\"CIENCIAS NATURALES\"])"
   ]
  },
  {
   "cell_type": "code",
   "execution_count": 75,
   "id": "d98124b9",
   "metadata": {},
   "outputs": [
    {
     "name": "stdout",
     "output_type": "stream",
     "text": [
      "q1:  32 - 54.0\n",
      "q2:  54.0 - 63.0\n",
      "q3:  63.0 - 67.0\n",
      "q4:  67.0 - 83\n"
     ]
    }
   ],
   "source": [
    "cuartiles=st.quantiles(dt[\"CIENCIAS NATURALES\"])\n",
    "minimo=np.min(dt[\"CIENCIAS NATURALES\"])\n",
    "minimo=np.min(dt[\"CIENCIAS NATURALES\"])\n",
    "maximo=np.max(dt[\"CIENCIAS NATURALES\"])\n",
    "print(\"q1: \",minimo,\"-\",cuartiles[0])\n",
    "print(\"q2: \",cuartiles[0],\"-\",cuartiles[1])\n",
    "print(\"q3: \",cuartiles[1],\"-\",cuartiles[2])\n",
    "print(\"q4: \",cuartiles[2],\"-\",maximo)"
   ]
  },
  {
   "cell_type": "markdown",
   "id": "7c3390eb",
   "metadata": {},
   "source": [
    "## Pormedios y medidas centrales"
   ]
  },
  {
   "cell_type": "code",
   "execution_count": 76,
   "id": "38371cdf",
   "metadata": {
    "scrolled": true
   },
   "outputs": [
    {
     "name": "stdout",
     "output_type": "stream",
     "text": [
      "58.25423728813559\n",
      "57.521232737237106\n",
      "56.72505771155406\n",
      "58.0\n",
      "56\n",
      "[56, 65]\n",
      "0     57\n",
      "1     44\n",
      "2     72\n",
      "3     56\n",
      "4     63\n",
      "5     59\n",
      "6     66\n",
      "7     54\n",
      "8     32\n",
      "9     64\n",
      "10    61\n",
      "11    65\n",
      "12    53\n",
      "13    56\n",
      "14    53\n",
      "15    73\n",
      "16    73\n",
      "17    65\n",
      "18    46\n",
      "19    49\n",
      "20    46\n",
      "21    64\n",
      "22    70\n",
      "23    71\n",
      "24    72\n",
      "25    59\n",
      "26    61\n",
      "27    63\n",
      "28    65\n",
      "29    47\n",
      "30    55\n",
      "31    40\n",
      "32    78\n",
      "33    58\n",
      "34    46\n",
      "35    50\n",
      "36    56\n",
      "37    58\n",
      "38    50\n",
      "39    44\n",
      "40    55\n",
      "41    48\n",
      "42    55\n",
      "43    56\n",
      "44    57\n",
      "45    70\n",
      "46    65\n",
      "47    62\n",
      "48    65\n",
      "49    53\n",
      "50    60\n",
      "51    64\n",
      "52    64\n",
      "53    56\n",
      "54    55\n",
      "55    54\n",
      "56    63\n",
      "57    58\n",
      "58    63\n",
      "Name: LECTURA CRITICA, dtype: int64\n"
     ]
    }
   ],
   "source": [
    "\n",
    "Media=st.mean((dt[\"LECTURA CRITICA\"]))\n",
    "Mediaaritmetrica=st.geometric_mean((dt[\"LECTURA CRITICA\"]))\n",
    "Mediaarmonica=st.harmonic_mean((dt[\"LECTURA CRITICA\"]))\n",
    "Mediana=st.median=((dt[\"LECTURA CRITICA\"]))\n",
    "Medianabaja=st.median_low((dt[\"LECTURA CRITICA\"]))\n",
    "Medianaalta=st.median_high((dt[\"LECTURA CRITICA\"]))\n",
    "Percentil=st.median_grouped((dt[\"LECTURA CRITICA\"]))\n",
    "Moda=st.mode((dt[\"LECTURA CRITICA\"]))\n",
    "Multimoda=st.multimode((dt[\"LECTURA CRITICA\"]))\n",
    "\n",
    "print(Media)\n",
    "print(Mediaaritmetrica)\n",
    "print(Mediaarmonica)\n",
    "print(Percentil)\n",
    "print(Moda)\n",
    "print(Multimoda)\n",
    "print(Mediana)\n"
   ]
  },
  {
   "cell_type": "code",
   "execution_count": 77,
   "id": "06afff66",
   "metadata": {
    "scrolled": true
   },
   "outputs": [
    {
     "name": "stdout",
     "output_type": "stream",
     "text": [
      "64.27118644067797\n",
      "63.55600715543807\n",
      "62.77703492179047\n",
      "65.625\n",
      "66\n",
      "[66, 67, 59, 74, 75]\n",
      "0     66\n",
      "1     67\n",
      "2     66\n",
      "3     66\n",
      "4     66\n",
      "5     72\n",
      "6     71\n",
      "7     59\n",
      "8     47\n",
      "9     59\n",
      "10    72\n",
      "11    61\n",
      "12    58\n",
      "13    74\n",
      "14    40\n",
      "15    80\n",
      "16    80\n",
      "17    74\n",
      "18    50\n",
      "19    63\n",
      "20    55\n",
      "21    71\n",
      "22    62\n",
      "23    64\n",
      "24    71\n",
      "25    53\n",
      "26    70\n",
      "27    58\n",
      "28    65\n",
      "29    68\n",
      "30    56\n",
      "31    60\n",
      "32    77\n",
      "33    62\n",
      "34    67\n",
      "35    45\n",
      "36    70\n",
      "37    52\n",
      "38    49\n",
      "39    61\n",
      "40    64\n",
      "41    56\n",
      "42    58\n",
      "43    76\n",
      "44    59\n",
      "45    74\n",
      "46    75\n",
      "47    69\n",
      "48    75\n",
      "49    67\n",
      "50    67\n",
      "51    75\n",
      "52    75\n",
      "53    70\n",
      "54    59\n",
      "55    43\n",
      "56    64\n",
      "57    65\n",
      "58    74\n",
      "Name: MATEMATICA, dtype: int64\n"
     ]
    }
   ],
   "source": [
    "Media=st.mean((dt[\"MATEMATICA\"]))\n",
    "Mediaaritmetrica=st.geometric_mean((dt[\"MATEMATICA\"]))\n",
    "Mediaarmonica=st.harmonic_mean((dt[\"MATEMATICA\"]))\n",
    "Mediana=st.median=((dt[\"MATEMATICA\"]))\n",
    "Medianabaja=st.median_low((dt[\"MATEMATICA\"]))\n",
    "Medianaalta=st.median_high((dt[\"MATEMATICA\"]))\n",
    "Percentil=st.median_grouped((dt[\"MATEMATICA\"]))\n",
    "Moda=st.mode((dt[\"MATEMATICA\"]))\n",
    "Multimoda=st.multimode((dt[\"MATEMATICA\"]))\n",
    "\n",
    "print(Media)\n",
    "print(Mediaaritmetrica)\n",
    "print(Mediaarmonica)\n",
    "print(Percentil)\n",
    "print(Moda)\n",
    "print(Multimoda)\n",
    "print(Mediana)"
   ]
  },
  {
   "cell_type": "code",
   "execution_count": 78,
   "id": "ba29bc91",
   "metadata": {
    "scrolled": true
   },
   "outputs": [
    {
     "name": "stdout",
     "output_type": "stream",
     "text": [
      "56.271186440677965\n",
      "54.87929406382885\n",
      "53.48411465190489\n",
      "55.333333333333336\n",
      "56\n",
      "[56]\n",
      "0     37\n",
      "1     57\n",
      "2     46\n",
      "3     55\n",
      "4     36\n",
      "5     59\n",
      "6     75\n",
      "7     45\n",
      "8     34\n",
      "9     60\n",
      "10    75\n",
      "11    63\n",
      "12    38\n",
      "13    54\n",
      "14    55\n",
      "15    76\n",
      "16    76\n",
      "17    56\n",
      "18    54\n",
      "19    49\n",
      "20    47\n",
      "21    48\n",
      "22    56\n",
      "23    69\n",
      "24    71\n",
      "25    56\n",
      "26    50\n",
      "27    65\n",
      "28    80\n",
      "29    56\n",
      "30    55\n",
      "31    49\n",
      "32    35\n",
      "33    53\n",
      "34    56\n",
      "35    51\n",
      "36    50\n",
      "37    41\n",
      "38    39\n",
      "39    56\n",
      "40    50\n",
      "41    60\n",
      "42    41\n",
      "43    87\n",
      "44    51\n",
      "45    76\n",
      "46    76\n",
      "47    64\n",
      "48    76\n",
      "49    66\n",
      "50    60\n",
      "51    65\n",
      "52    65\n",
      "53    65\n",
      "54    44\n",
      "55    37\n",
      "56    52\n",
      "57    51\n",
      "58    51\n",
      "Name: INGLES, dtype: int64\n"
     ]
    }
   ],
   "source": [
    "Media=st.mean((dt[\"INGLES\"]))\n",
    "Mediaaritmetrica=st.geometric_mean((dt[\"INGLES\"]))\n",
    "Mediaarmonica=st.harmonic_mean((dt[\"INGLES\"]))\n",
    "Mediana=st.median=((dt[\"INGLES\"]))\n",
    "Medianabaja=st.median_low((dt[\"INGLES\"]))\n",
    "Medianaalta=st.median_high((dt[\"INGLES\"]))\n",
    "Percentil=st.median_grouped((dt[\"INGLES\"]))\n",
    "Moda=st.mode((dt[\"INGLES\"]))\n",
    "Multimoda=st.multimode((dt[\"INGLES\"]))\n",
    "\n",
    "print(Media)\n",
    "print(Mediaaritmetrica)\n",
    "print(Mediaarmonica)\n",
    "print(Percentil)\n",
    "print(Moda)\n",
    "print(Multimoda)\n",
    "print(Mediana)"
   ]
  },
  {
   "cell_type": "code",
   "execution_count": 114,
   "id": "61792c00",
   "metadata": {
    "scrolled": true
   },
   "outputs": [
    {
     "name": "stdout",
     "output_type": "stream",
     "text": [
      "58.271186440677965\n",
      "57.443710115846415\n",
      "56.59503479020975\n",
      "59.666666666666664\n",
      "53\n",
      "[53]\n",
      "0     64\n",
      "1     52\n",
      "2     73\n",
      "3     52\n",
      "4     62\n",
      "5     61\n",
      "6     67\n",
      "7     49\n",
      "8     44\n",
      "9     62\n",
      "10    67\n",
      "11    62\n",
      "12    50\n",
      "13    50\n",
      "14    60\n",
      "15    64\n",
      "16    64\n",
      "17    49\n",
      "18    41\n",
      "19    56\n",
      "20    46\n",
      "21    66\n",
      "22    57\n",
      "23    63\n",
      "24    65\n",
      "25    47\n",
      "26    85\n",
      "27    61\n",
      "28    76\n",
      "29    60\n",
      "30    74\n",
      "31    47\n",
      "32    63\n",
      "33    62\n",
      "34    55\n",
      "35    35\n",
      "36    60\n",
      "37    64\n",
      "38    43\n",
      "39    68\n",
      "40    53\n",
      "41    55\n",
      "42    45\n",
      "43    45\n",
      "44    53\n",
      "45    72\n",
      "46    70\n",
      "47    66\n",
      "48    70\n",
      "49    58\n",
      "50    53\n",
      "51    53\n",
      "52    53\n",
      "53    50\n",
      "54    56\n",
      "55    50\n",
      "56    72\n",
      "57    63\n",
      "58    55\n",
      "Name: SOCIALES Y CIUDADANIA, dtype: int64\n"
     ]
    }
   ],
   "source": [
    "Media=st.mean((dt[\"SOCIALES Y CIUDADANIA\"]))\n",
    "Mediaaritmetrica=st.geometric_mean((dt[\"SOCIALES Y CIUDADANIA\"]))\n",
    "Mediaarmonica=st.harmonic_mean((dt[\"SOCIALES Y CIUDADANIA\"]))\n",
    "Mediana=st.median=((dt[\"SOCIALES Y CIUDADANIA\"]))\n",
    "Medianabaja=st.median_low((dt[\"SOCIALES Y CIUDADANIA\"]))\n",
    "Medianaalta=st.median_high((dt[\"SOCIALES Y CIUDADANIA\"]))\n",
    "Percentil=st.median_grouped((dt[\"SOCIALES Y CIUDADANIA\"]))\n",
    "Moda=st.mode((dt[\"SOCIALES Y CIUDADANIA\"]))\n",
    "Multimoda=st.multimode((dt[\"SOCIALES Y CIUDADANIA\"]))\n",
    "\n",
    "print(Media)\n",
    "print(Mediaaritmetrica)\n",
    "print(Mediaarmonica)\n",
    "print(Percentil)\n",
    "print(Moda)\n",
    "print(Multimoda)\n",
    "print(Mediana)"
   ]
  },
  {
   "cell_type": "code",
   "execution_count": 80,
   "id": "4a907f5f",
   "metadata": {
    "scrolled": true
   },
   "outputs": [
    {
     "name": "stdout",
     "output_type": "stream",
     "text": [
      "60.25423728813559\n",
      "59.35197547129844\n",
      "58.32511197604119\n",
      "62.714285714285715\n",
      "63\n",
      "[63]\n",
      "0     54\n",
      "1     63\n",
      "2     70\n",
      "3     59\n",
      "4     55\n",
      "5     63\n",
      "6     67\n",
      "7     49\n",
      "8     55\n",
      "9     64\n",
      "10    63\n",
      "11    64\n",
      "12    51\n",
      "13    38\n",
      "14    44\n",
      "15    70\n",
      "16    70\n",
      "17    69\n",
      "18    50\n",
      "19    53\n",
      "20    51\n",
      "21    61\n",
      "22    64\n",
      "23    68\n",
      "24    73\n",
      "25    59\n",
      "26    75\n",
      "27    65\n",
      "28    83\n",
      "29    65\n",
      "30    64\n",
      "31    45\n",
      "32    78\n",
      "33    60\n",
      "34    60\n",
      "35    32\n",
      "36    63\n",
      "37    54\n",
      "38    53\n",
      "39    59\n",
      "40    62\n",
      "41    37\n",
      "42    43\n",
      "43    65\n",
      "44    67\n",
      "45    68\n",
      "46    70\n",
      "47    63\n",
      "48    70\n",
      "49    65\n",
      "50    60\n",
      "51    63\n",
      "52    63\n",
      "53    50\n",
      "54    61\n",
      "55    52\n",
      "56    69\n",
      "57    60\n",
      "58    64\n",
      "Name: CIENCIAS NATURALES, dtype: int64\n"
     ]
    }
   ],
   "source": [
    "Media=st.mean((dt[\"CIENCIAS NATURALES\"]))\n",
    "Mediaaritmetrica=st.geometric_mean((dt[\"CIENCIAS NATURALES\"]))\n",
    "Mediaarmonica=st.harmonic_mean((dt[\"CIENCIAS NATURALES\"]))\n",
    "Mediana=st.median=((dt[\"CIENCIAS NATURALES\"]))\n",
    "Medianabaja=st.median_low((dt[\"CIENCIAS NATURALES\"]))\n",
    "Medianaalta=st.median_high((dt[\"CIENCIAS NATURALES\"]))\n",
    "Percentil=st.median_grouped((dt[\"CIENCIAS NATURALES\"]))\n",
    "Moda=st.mode((dt[\"CIENCIAS NATURALES\"]))\n",
    "Multimoda=st.multimode((dt[\"CIENCIAS NATURALES\"]))\n",
    "\n",
    "print(Media)\n",
    "print(Mediaaritmetrica)\n",
    "print(Mediaarmonica)\n",
    "print(Percentil)\n",
    "print(Moda)\n",
    "print(Multimoda)\n",
    "print(Mediana)"
   ]
  },
  {
   "cell_type": "markdown",
   "id": "4ad2dd68",
   "metadata": {},
   "source": [
    " \n",
    "## Medidas de dispersion "
   ]
  },
  {
   "cell_type": "code",
   "execution_count": 81,
   "id": "2aed321e",
   "metadata": {},
   "outputs": [
    {
     "name": "stdout",
     "output_type": "stream",
     "text": [
      "9.008794975369392\n",
      "79.78282102844011\n",
      "9.008794975369392\n",
      "79.78282102844011\n"
     ]
    }
   ],
   "source": [
    "Desviacion_tipica=st.pstdev(dt[\"LECTURA CRITICA\"])\n",
    "Varianza_poblacional=st.pvariance(dt[\"LECTURA CRITICA\"])\n",
    "Desviacion_tipica=st.stdev(dt[\"LECTURA CRITICA\"])\n",
    "Varianza=st.pvariance(dt[\"LECTURA CRITICA\"])\n",
    "print(Desviacion_tipica)\n",
    "print(Varianza_poblacional)\n",
    "print(Desviacion_tipica)\n",
    "print(Varianza)"
   ]
  },
  {
   "cell_type": "code",
   "execution_count": 82,
   "id": "a6724ddf",
   "metadata": {},
   "outputs": [
    {
     "name": "stdout",
     "output_type": "stream",
     "text": [
      "9.28073738983726\n",
      "84.67222062625682\n",
      "9.28073738983726\n",
      "84.67222062625682\n"
     ]
    }
   ],
   "source": [
    "Desviacion_tipica=st.pstdev(dt[\"MATEMATICA\"])\n",
    "Varianza_poblacional=st.pvariance(dt[\"MATEMATICA\"])\n",
    "Desviacion_tipica=st.stdev(dt[\"MATEMATICA\"])\n",
    "Varianza=st.pvariance(dt[\"MATEMATICA\"])\n",
    "print(Desviacion_tipica)\n",
    "print(Varianza_poblacional)\n",
    "print(Desviacion_tipica)\n",
    "print(Varianza)"
   ]
  },
  {
   "cell_type": "code",
   "execution_count": 83,
   "id": "2adf8919",
   "metadata": {},
   "outputs": [
    {
     "name": "stdout",
     "output_type": "stream",
     "text": [
      "12.598344867309953\n",
      "156.02815282964664\n",
      "12.598344867309953\n",
      "156.02815282964664\n"
     ]
    }
   ],
   "source": [
    "Desviacion_tipica=st.pstdev(dt[\"INGLES\"])\n",
    "Varianza_poblacional=st.pvariance(dt[\"INGLES\"])\n",
    "Desviacion_tipica=st.stdev(dt[\"INGLES\"])\n",
    "Varianza=st.pvariance(dt[\"INGLES\"])\n",
    "print(Desviacion_tipica)\n",
    "print(Varianza_poblacional)\n",
    "print(Desviacion_tipica)\n",
    "print(Varianza)"
   ]
  },
  {
   "cell_type": "code",
   "execution_count": 84,
   "id": "a4114d55",
   "metadata": {},
   "outputs": [
    {
     "name": "stdout",
     "output_type": "stream",
     "text": [
      "11.970326647454375\n",
      "140.86009767308244\n",
      "11.970326647454375\n",
      "140.86009767308244\n"
     ]
    }
   ],
   "source": [
    "Desviacion_tipica=st.pstdev(dt[\"SOCIALES Y CIUDADANIA\"])\n",
    "Varianza_poblacional=st.pvariance(dt[\"SOCIALES Y CIUDADANIA\"])\n",
    "Desviacion_tipica=st.stdev(dt[\"SOCIALES Y CIUDADANIA\"])\n",
    "Varianza=st.pvariance(dt[\"SOCIALES Y CIUDADANIA\"])\n",
    "print(Desviacion_tipica)\n",
    "print(Varianza_poblacional)\n",
    "print(Desviacion_tipica)\n",
    "print(Varianza)"
   ]
  },
  {
   "cell_type": "code",
   "execution_count": 85,
   "id": "9182cba5",
   "metadata": {},
   "outputs": [
    {
     "name": "stdout",
     "output_type": "stream",
     "text": [
      "9.928352331161957\n",
      "96.90146509623672\n",
      "9.928352331161957\n",
      "96.90146509623672\n"
     ]
    }
   ],
   "source": [
    "Desviacion_tipica=st.pstdev(dt[\"CIENCIAS NATURALES\"])\n",
    "Varianza_poblacional=st.pvariance(dt[\"CIENCIAS NATURALES\"])\n",
    "Desviacion_tipica=st.stdev(dt[\"CIENCIAS NATURALES\"])\n",
    "Varianza=st.pvariance(dt[\"CIENCIAS NATURALES\"])\n",
    "print(Desviacion_tipica)\n",
    "print(Varianza_poblacional)\n",
    "print(Desviacion_tipica)\n",
    "print(Varianza)"
   ]
  },
  {
   "cell_type": "code",
   "execution_count": null,
   "id": "3df3e611",
   "metadata": {},
   "outputs": [],
   "source": []
  },
  {
   "cell_type": "code",
   "execution_count": null,
   "id": "a650a26b",
   "metadata": {},
   "outputs": [],
   "source": []
  }
 ],
 "metadata": {
  "kernelspec": {
   "display_name": "Python 3",
   "language": "python",
   "name": "python3"
  },
  "language_info": {
   "codemirror_mode": {
    "name": "ipython",
    "version": 3
   },
   "file_extension": ".py",
   "mimetype": "text/x-python",
   "name": "python",
   "nbconvert_exporter": "python",
   "pygments_lexer": "ipython3",
   "version": "3.8.8"
  }
 },
 "nbformat": 4,
 "nbformat_minor": 5
}
