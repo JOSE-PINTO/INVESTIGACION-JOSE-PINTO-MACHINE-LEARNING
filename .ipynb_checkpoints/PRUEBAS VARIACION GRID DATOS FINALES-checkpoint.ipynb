{
 "cells": [
  {
   "cell_type": "code",
   "execution_count": 2,
   "id": "973e8d93",
   "metadata": {},
   "outputs": [],
   "source": [
    "#Librerias implementadas\n",
    "import scipy.io\n",
    "import copy\n",
    "import numpy as np \n",
    "import pandas as pd\n",
    "import matplotlib.pyplot as plt\n",
    "import time\n",
    "import pickle\n",
    "import scipy.io as sio\n",
    "from sklearn import svm\n",
    "from sklearn import linear_model\n",
    "import statsmodels.api as sm\n",
    "import statsmodels.formula.api as smf\n",
    "from sklearn import tree\n",
    "from sklearn.cluster import KMeans\n",
    "from scipy.stats import pearsonr\n",
    "from sklearn.linear_model import LinearRegression\n",
    "from sklearn.model_selection import train_test_split\n",
    "from sklearn.metrics import r2_score\n",
    "from sklearn.metrics import mean_squared_error\n",
    "from sklearn.metrics import confusion_matrix, precision_score, f1_score, recall_score\n",
    "from sklearn.model_selection import train_test_split\n",
    "from sklearn import datasets\n",
    "from sklearn.model_selection import cross_val_score\n",
    "from sklearn.model_selection import cross_validate\n",
    "from sklearn.metrics import recall_score\n",
    "from sklearn.model_selection import cross_val_predict\n",
    "from sklearn.metrics import median_absolute_error\n",
    "from sklearn.metrics import mean_squared_error\n",
    "from IPython.display import Image\n",
    "from sklearn.pipeline import make_pipeline\n",
    "from sklearn.svm import SVR\n",
    "from sklearn.preprocessing import StandardScaler\n",
    "from sklearn.neural_network import MLPRegressor\n",
    "from sklearn.datasets import make_regression\n",
    "from sklearn.model_selection import train_test_split\n",
    "from sklearn.model_selection import GridSearchCV \n",
    "from sklearn.model_selection import KFold"
   ]
  },
  {
   "cell_type": "code",
   "execution_count": 3,
   "id": "85c116df",
   "metadata": {},
   "outputs": [],
   "source": [
    "#....\n",
    "def cargardatos(datos_tesis):\n",
    "\n",
    "    datos=pd.read_csv(datos_tesis, sep=',')\n",
    "    datos=datos.drop(['LOGICA COMPUTACIONAL','PROGRAMACION I','PROGRAMACION II','PROGRAMACION III'], axis=1)\n",
    "    \n",
    "\n",
    "    X = datos[['LECTURA CRITICA','MATEMATICA','INGLES','SOCIALES Y CIUDADANIA','CIENCIAS NATURALES']]\n",
    "    Y = datos['PROMEDIO PROGRAMACIONES']\n",
    "    X = X.to_numpy()\n",
    "    Y = Y.to_numpy()\n",
    "    return(X,Y)"
   ]
  },
  {
   "cell_type": "code",
   "execution_count": 4,
   "id": "8c74c772",
   "metadata": {},
   "outputs": [],
   "source": [
    "X,Y=cargardatos('Datos-Tesis.csv')"
   ]
  },
  {
   "cell_type": "code",
   "execution_count": 5,
   "id": "11624735",
   "metadata": {},
   "outputs": [],
   "source": [
    "#MODELO DE SUPPORT VECTOR REGRESSION\n",
    "\n",
    "\n",
    "#Definir la cantidad de datos que se asignarán al conjunto de entrenamiento y de prueba\n",
    "X_train, X_test, Y_train, Y_test = train_test_split(X, Y, test_size=0.2, random_state=0)\n",
    "#print(X_train, X_test, y_train, y_test)\n",
    "#Definir elementos para evaluación de los modelos\n",
    "\n",
    "kf = KFold(n_splits=5)\n",
    "\n",
    "sv =SVR(C=1.0, epsilon=0.5)\n",
    "\n",
    "#sv.fit(X_train, y_train)\n",
    "\n",
    "#scores = cross_val_score(sv, X_train, y_train, cv=kf, scoring=\"r2\")\n",
    "#print(\"Metricas cross_validation\", scores)"
   ]
  },
  {
   "cell_type": "code",
   "execution_count": 6,
   "id": "006a860c",
   "metadata": {},
   "outputs": [
    {
     "name": "stdout",
     "output_type": "stream",
     "text": [
      "Best  r2: 0.647\n",
      "Best Config: {'kernel': 'rbf'}\n",
      ">1.636 with: {'kernel': 'linear'}\n",
      ">1.368 with: {'kernel': 'poly'}\n",
      ">0.647 with: {'kernel': 'rbf'}\n",
      ">0.892 with: {'kernel': 'sigmoid'}\n"
     ]
    }
   ],
   "source": [
    "# define grid\n",
    "grid1 = dict()\n",
    "grid1['kernel'] = ['linear', 'poly', 'rbf', 'sigmoid']\n",
    "sco=['neg_mean_squared_error','neg_median_absolute_error','r2']\n",
    "\n",
    "# define search\n",
    "\n",
    "search1 = GridSearchCV(sv, grid1, scoring='r2', cv=kf, n_jobs=-1)\n",
    "# perform the search\n",
    "results = search1.fit(X_train, Y_train)\n",
    "pos=(-1)* results.best_score_\n",
    "# summarize best\n",
    "print('Best  r2: %.3f' % pos)\n",
    "print('Best Config: %s' % results.best_params_)\n",
    "# summarize all\n",
    "means = results.cv_results_['mean_test_score']\n",
    "params = results.cv_results_['params']\n",
    "for mean, param in zip(means, params):\n",
    "    print(\">%.3f with: %r\" % (mean * -1, param))\n",
    "    "
   ]
  },
  {
   "cell_type": "code",
   "execution_count": 7,
   "id": "3f9f679d",
   "metadata": {},
   "outputs": [],
   "source": [
    "#MODELO DE SUPPORT VECTOR REGRESSION\n",
    "\n",
    "\n",
    "#Definir la cantidad de datos que se asignarán al conjunto de entrenamiento y de prueba\n",
    "X_train, X_test, Y_train, Y_test = train_test_split(X, Y, test_size=0.2, random_state=0)\n",
    "#print(X_train, X_test, y_train, y_test)\n",
    "#Definir elementos para evaluación de los modelos\n",
    "\n",
    "kf = KFold(n_splits=5)\n",
    "\n",
    "sv =SVR(C=1.0, epsilon=0.5)\n",
    "\n",
    "#sv.fit(X_train, y_train)\n",
    "\n",
    "#scores = cross_val_score(sv, X_train, y_train, cv=kf, scoring=\"r2\")\n",
    "#print(\"Metricas cross_validation\", scores)"
   ]
  },
  {
   "cell_type": "code",
   "execution_count": 8,
   "id": "03349da7",
   "metadata": {},
   "outputs": [
    {
     "name": "stdout",
     "output_type": "stream",
     "text": [
      "Best mean_squared_error: 0.086\n",
      "Best Config: {'kernel': 'rbf'}\n",
      ">0.121 with: {'kernel': 'linear'}\n",
      ">0.118 with: {'kernel': 'poly'}\n",
      ">0.086 with: {'kernel': 'rbf'}\n",
      ">0.096 with: {'kernel': 'sigmoid'}\n"
     ]
    }
   ],
   "source": [
    "# define grid\n",
    "grid1 = dict()\n",
    "grid1['kernel'] = ['linear', 'poly', 'rbf', 'sigmoid']\n",
    "sco=['neg_mean_squared_error','neg_median_absolute_error','r2']\n",
    "\n",
    "# define search\n",
    "\n",
    "search1 = GridSearchCV(sv, grid1, scoring='neg_mean_squared_error', cv=kf, n_jobs=-1)\n",
    "# perform the search\n",
    "results = search1.fit(X_train, Y_train)\n",
    "pos=(-1)* results.best_score_\n",
    "# summarize best\n",
    "print('Best mean_squared_error: %.3f' % pos)\n",
    "print('Best Config: %s' % results.best_params_)\n",
    "# summarize all\n",
    "means = results.cv_results_['mean_test_score']\n",
    "params = results.cv_results_['params']\n",
    "for mean, param in zip(means, params):\n",
    "    print(\">%.3f with: %r\" % (mean * -1, param))"
   ]
  },
  {
   "cell_type": "code",
   "execution_count": 9,
   "id": "bea51b50",
   "metadata": {},
   "outputs": [
    {
     "name": "stdout",
     "output_type": "stream",
     "text": [
      "Best neg_root_mean_squared_error: 0.280\n",
      "Best Config: {'kernel': 'rbf'}\n",
      ">0.342 with: {'kernel': 'linear'}\n",
      ">0.335 with: {'kernel': 'poly'}\n",
      ">0.280 with: {'kernel': 'rbf'}\n",
      ">0.299 with: {'kernel': 'sigmoid'}\n"
     ]
    }
   ],
   "source": [
    "# define grid\n",
    "grid1 = dict()\n",
    "grid1['kernel'] = ['linear', 'poly', 'rbf', 'sigmoid']\n",
    "sco=['neg_mean_squared_error','neg_median_absolute_error','r2','neg_root_mean_squared_error']\n",
    "\n",
    "# define search\n",
    "\n",
    "search1 = GridSearchCV(sv, grid1, scoring='neg_root_mean_squared_error', cv=kf, n_jobs=-1)\n",
    "# perform the search\n",
    "results = search1.fit(X_train, Y_train)\n",
    "pos=(-1)* results.best_score_\n",
    "# summarize best\n",
    "print('Best neg_root_mean_squared_error: %.3f' % pos)\n",
    "print('Best Config: %s' % results.best_params_)\n",
    "# summarize all\n",
    "means = results.cv_results_['mean_test_score']\n",
    "params = results.cv_results_['params']\n",
    "for mean, param in zip(means, params):\n",
    "    print(\">%.3f with: %r\" % (mean * -1, param))"
   ]
  },
  {
   "cell_type": "code",
   "execution_count": 101,
   "id": "880877de",
   "metadata": {},
   "outputs": [],
   "source": [
    "#MODELO DE SUPPORT VECTOR REGRESSION\n",
    "\n",
    "\n",
    "#Definir la cantidad de datos que se asignarán al conjunto de entrenamiento y de prueba\n",
    "X_train, X_test, Y_train, Y_test = train_test_split(X, Y, test_size=0.2, random_state=0)\n",
    "#print(X_train, X_test, y_train, y_test)\n",
    "#Definir elementos para evaluación de los modelos\n",
    "\n",
    "kf = KFold(n_splits=6)\n",
    "\n",
    "sv =SVR(C=1.0, epsilon=0.5)\n",
    "\n",
    "#sv.fit(X_train, y_train)\n",
    "\n",
    "#scores = cross_val_score(sv, X_train, y_train, cv=kf, scoring=\"r2\")\n",
    "#print(\"Metricas cross_validation\", scores)"
   ]
  },
  {
   "cell_type": "code",
   "execution_count": 102,
   "id": "168296b0",
   "metadata": {},
   "outputs": [
    {
     "name": "stdout",
     "output_type": "stream",
     "text": [
      "Best  r2: 0.520\n",
      "Best Config: {'kernel': 'rbf'}\n",
      ">0.944 with: {'kernel': 'linear'}\n",
      ">1.021 with: {'kernel': 'poly'}\n",
      ">0.520 with: {'kernel': 'rbf'}\n",
      ">0.797 with: {'kernel': 'sigmoid'}\n"
     ]
    }
   ],
   "source": [
    "# define grid\n",
    "grid1 = dict()\n",
    "grid1['kernel'] = ['linear', 'poly', 'rbf', 'sigmoid']\n",
    "sco=['neg_mean_squared_error','neg_median_absolute_error','r2']\n",
    "\n",
    "# define search\n",
    "\n",
    "search1 = GridSearchCV(sv, grid1, scoring='r2', cv=kf, n_jobs=-1)\n",
    "# perform the search\n",
    "results = search1.fit(X_train, Y_train)\n",
    "pos=(-1)* results.best_score_\n",
    "# summarize best\n",
    "print('Best  r2: %.3f' % pos)\n",
    "print('Best Config: %s' % results.best_params_)\n",
    "# summarize all\n",
    "means = results.cv_results_['mean_test_score']\n",
    "params = results.cv_results_['params']\n",
    "for mean, param in zip(means, params):\n",
    "    print(\">%.3f with: %r\" % (mean * -1, param))\n",
    "    "
   ]
  },
  {
   "cell_type": "code",
   "execution_count": null,
   "id": "65d2276f",
   "metadata": {},
   "outputs": [],
   "source": []
  },
  {
   "cell_type": "code",
   "execution_count": null,
   "id": "dbd67ae1",
   "metadata": {},
   "outputs": [],
   "source": []
  },
  {
   "cell_type": "code",
   "execution_count": 103,
   "id": "7b2b9e1f",
   "metadata": {},
   "outputs": [],
   "source": [
    "#MODELO DE SUPPORT VECTOR REGRESSION\n",
    "\n",
    "\n",
    "#Definir la cantidad de datos que se asignarán al conjunto de entrenamiento y de prueba\n",
    "X_train, X_test, Y_train, Y_test = train_test_split(X, Y, test_size=0.2, random_state=0)\n",
    "#print(X_train, X_test, y_train, y_test)\n",
    "#Definir elementos para evaluación de los modelos\n",
    "\n",
    "kf = KFold(n_splits=6)\n",
    "\n",
    "sv =SVR(C=1.0, epsilon=0.5)\n",
    "\n",
    "#sv.fit(X_train, y_train)\n",
    "\n",
    "#scores = cross_val_score(sv, X_train, y_train, cv=kf, scoring=\"r2\")\n",
    "#print(\"Metricas cross_validation\", scores)"
   ]
  },
  {
   "cell_type": "code",
   "execution_count": 104,
   "id": "20298c77",
   "metadata": {},
   "outputs": [
    {
     "name": "stdout",
     "output_type": "stream",
     "text": [
      "Best mean_squared_error: 0.099\n",
      "Best Config: {'kernel': 'rbf'}\n",
      ">0.119 with: {'kernel': 'linear'}\n",
      ">0.125 with: {'kernel': 'poly'}\n",
      ">0.099 with: {'kernel': 'rbf'}\n",
      ">0.110 with: {'kernel': 'sigmoid'}\n"
     ]
    }
   ],
   "source": [
    "# define grid\n",
    "grid1 = dict()\n",
    "grid1['kernel'] = ['linear', 'poly', 'rbf', 'sigmoid']\n",
    "sco=['neg_mean_squared_error','neg_median_absolute_error','r2']\n",
    "\n",
    "# define search\n",
    "\n",
    "search1 = GridSearchCV(sv, grid1, scoring='neg_mean_squared_error', cv=kf, n_jobs=-1)\n",
    "# perform the search\n",
    "results = search1.fit(X_train, Y_train)\n",
    "pos=(-1)* results.best_score_\n",
    "# summarize best\n",
    "print('Best mean_squared_error: %.3f' % pos)\n",
    "print('Best Config: %s' % results.best_params_)\n",
    "# summarize all\n",
    "means = results.cv_results_['mean_test_score']\n",
    "params = results.cv_results_['params']\n",
    "for mean, param in zip(means, params):\n",
    "    print(\">%.3f with: %r\" % (mean * -1, param))"
   ]
  },
  {
   "cell_type": "code",
   "execution_count": null,
   "id": "91f05571",
   "metadata": {},
   "outputs": [],
   "source": []
  },
  {
   "cell_type": "code",
   "execution_count": null,
   "id": "9c3bfac6",
   "metadata": {},
   "outputs": [],
   "source": []
  },
  {
   "cell_type": "code",
   "execution_count": 6,
   "id": "d96c09b0",
   "metadata": {},
   "outputs": [],
   "source": [
    "#MODELO DE SUPPORT VECTOR REGRESSION\n",
    "\n",
    "\n",
    "#Definir la cantidad de datos que se asignarán al conjunto de entrenamiento y de prueba\n",
    "X_train, X_test, Y_train, Y_test = train_test_split(X, Y, test_size=0.2, random_state=0)\n",
    "#print(X_train, X_test, y_train, y_test)\n",
    "#Definir elementos para evaluación de los modelos\n",
    "\n",
    "kf = KFold(n_splits=7)\n",
    "\n",
    "sv =SVR(C=1.0, epsilon=0.5)\n",
    "\n",
    "#sv.fit(X_train, y_train)\n",
    "\n",
    "#scores = cross_val_score(sv, X_train, y_train, cv=kf, scoring=\"r2\")\n",
    "#print(\"Metricas cross_validation\", scores)"
   ]
  },
  {
   "cell_type": "code",
   "execution_count": 7,
   "id": "3636229b",
   "metadata": {},
   "outputs": [
    {
     "name": "stdout",
     "output_type": "stream",
     "text": [
      "Best  r2: 0.531\n",
      "Best Config: {'kernel': 'sigmoid'}\n",
      ">1.601 with: {'kernel': 'linear'}\n",
      ">1.603 with: {'kernel': 'poly'}\n",
      ">0.533 with: {'kernel': 'rbf'}\n",
      ">0.531 with: {'kernel': 'sigmoid'}\n"
     ]
    }
   ],
   "source": [
    "# define grid\n",
    "grid1 = dict()\n",
    "grid1['kernel'] = ['linear', 'poly', 'rbf', 'sigmoid']\n",
    "sco=['neg_mean_squared_error','neg_median_absolute_error','r2']\n",
    "\n",
    "# define search\n",
    "\n",
    "search1 = GridSearchCV(sv, grid1, scoring='r2', cv=kf, n_jobs=-1)\n",
    "# perform the search\n",
    "results = search1.fit(X_train, Y_train)\n",
    "pos=(-1)* results.best_score_\n",
    "# summarize best\n",
    "print('Best  r2: %.3f' % pos)\n",
    "print('Best Config: %s' % results.best_params_)\n",
    "# summarize all\n",
    "means = results.cv_results_['mean_test_score']\n",
    "params = results.cv_results_['params']\n",
    "for mean, param in zip(means, params):\n",
    "    print(\">%.3f with: %r\" % (mean * -1, param))\n",
    "    "
   ]
  },
  {
   "cell_type": "code",
   "execution_count": null,
   "id": "50d37366",
   "metadata": {},
   "outputs": [],
   "source": []
  },
  {
   "cell_type": "code",
   "execution_count": null,
   "id": "f664473f",
   "metadata": {},
   "outputs": [],
   "source": []
  },
  {
   "cell_type": "code",
   "execution_count": 111,
   "id": "34184b4f",
   "metadata": {},
   "outputs": [],
   "source": [
    "#MODELO DE SUPPORT VECTOR REGRESSION\n",
    "\n",
    "\n",
    "#Definir la cantidad de datos que se asignarán al conjunto de entrenamiento y de prueba\n",
    "X_train, X_test, Y_train, Y_test = train_test_split(X, Y, test_size=0.2, random_state=0)\n",
    "#print(X_train, X_test, y_train, y_test)\n",
    "#Definir elementos para evaluación de los modelos\n",
    "\n",
    "kf = KFold(n_splits=7)\n",
    "\n",
    "sv =SVR(C=1.0, epsilon=0.5)\n",
    "\n",
    "#sv.fit(X_train, y_train)\n",
    "\n",
    "#scores = cross_val_score(sv, X_train, y_train, cv=kf, scoring=\"r2\")\n",
    "#print(\"Metricas cross_validation\", scores)"
   ]
  },
  {
   "cell_type": "code",
   "execution_count": 112,
   "id": "3dc12ee7",
   "metadata": {},
   "outputs": [
    {
     "name": "stdout",
     "output_type": "stream",
     "text": [
      "Best mean_squared_error: 0.079\n",
      "Best Config: {'kernel': 'rbf'}\n",
      ">0.120 with: {'kernel': 'linear'}\n",
      ">0.124 with: {'kernel': 'poly'}\n",
      ">0.079 with: {'kernel': 'rbf'}\n",
      ">0.088 with: {'kernel': 'sigmoid'}\n"
     ]
    }
   ],
   "source": [
    "# define grid\n",
    "grid1 = dict()\n",
    "grid1['kernel'] = ['linear', 'poly', 'rbf', 'sigmoid']\n",
    "sco=['neg_mean_squared_error','neg_median_absolute_error','r2']\n",
    "\n",
    "# define search\n",
    "\n",
    "search1 = GridSearchCV(sv, grid1, scoring='neg_mean_squared_error', cv=kf, n_jobs=-1)\n",
    "# perform the search\n",
    "results = search1.fit(X_train, Y_train)\n",
    "pos=(-1)* results.best_score_\n",
    "# summarize best\n",
    "print('Best mean_squared_error: %.3f' % pos)\n",
    "print('Best Config: %s' % results.best_params_)\n",
    "# summarize all\n",
    "means = results.cv_results_['mean_test_score']\n",
    "params = results.cv_results_['params']\n",
    "for mean, param in zip(means, params):\n",
    "    print(\">%.3f with: %r\" % (mean * -1, param))"
   ]
  },
  {
   "cell_type": "code",
   "execution_count": null,
   "id": "f73b231c",
   "metadata": {},
   "outputs": [],
   "source": []
  },
  {
   "cell_type": "code",
   "execution_count": null,
   "id": "3a021a83",
   "metadata": {},
   "outputs": [],
   "source": []
  },
  {
   "cell_type": "code",
   "execution_count": 113,
   "id": "019c9052",
   "metadata": {},
   "outputs": [],
   "source": [
    "#MODELO DE SUPPORT VECTOR REGRESSION\n",
    "\n",
    "\n",
    "#Definir la cantidad de datos que se asignarán al conjunto de entrenamiento y de prueba\n",
    "X_train, X_test, Y_train, Y_test = train_test_split(X, Y, test_size=0.2, random_state=0)\n",
    "#print(X_train, X_test, y_train, y_test)\n",
    "#Definir elementos para evaluación de los modelos\n",
    "\n",
    "kf = KFold(n_splits=8)\n",
    "\n",
    "sv =SVR(C=1.0, epsilon=0.5)\n",
    "\n",
    "#sv.fit(X_train, y_train)\n",
    "\n",
    "#scores = cross_val_score(sv, X_train, y_train, cv=kf, scoring=\"r2\")\n",
    "#print(\"Metricas cross_validation\", scores)"
   ]
  },
  {
   "cell_type": "code",
   "execution_count": 114,
   "id": "da34b0be",
   "metadata": {},
   "outputs": [
    {
     "name": "stdout",
     "output_type": "stream",
     "text": [
      "Best  r2: 0.358\n",
      "Best Config: {'kernel': 'sigmoid'}\n",
      ">1.373 with: {'kernel': 'linear'}\n",
      ">1.544 with: {'kernel': 'poly'}\n",
      ">0.516 with: {'kernel': 'rbf'}\n",
      ">0.358 with: {'kernel': 'sigmoid'}\n"
     ]
    }
   ],
   "source": [
    "# define grid\n",
    "grid1 = dict()\n",
    "grid1['kernel'] = ['linear', 'poly', 'rbf', 'sigmoid']\n",
    "sco=['neg_mean_squared_error','neg_median_absolute_error','r2']\n",
    "\n",
    "# define search\n",
    "\n",
    "search1 = GridSearchCV(sv, grid1, scoring='r2', cv=kf, n_jobs=-1)\n",
    "# perform the search\n",
    "results = search1.fit(X_train, Y_train)\n",
    "pos=(-1)* results.best_score_\n",
    "# summarize best\n",
    "print('Best  r2: %.3f' % pos)\n",
    "print('Best Config: %s' % results.best_params_)\n",
    "# summarize all\n",
    "means = results.cv_results_['mean_test_score']\n",
    "params = results.cv_results_['params']\n",
    "for mean, param in zip(means, params):\n",
    "    print(\">%.3f with: %r\" % (mean * -1, param))\n",
    "    "
   ]
  },
  {
   "cell_type": "code",
   "execution_count": null,
   "id": "fc0da5e5",
   "metadata": {},
   "outputs": [],
   "source": []
  },
  {
   "cell_type": "code",
   "execution_count": null,
   "id": "b749092e",
   "metadata": {},
   "outputs": [],
   "source": []
  },
  {
   "cell_type": "code",
   "execution_count": 115,
   "id": "93c657e4",
   "metadata": {},
   "outputs": [],
   "source": [
    "#MODELO DE SUPPORT VECTOR REGRESSION\n",
    "\n",
    "\n",
    "#Definir la cantidad de datos que se asignarán al conjunto de entrenamiento y de prueba\n",
    "X_train, X_test, Y_train, Y_test = train_test_split(X, Y, test_size=0.2, random_state=0)\n",
    "#print(X_train, X_test, y_train, y_test)\n",
    "#Definir elementos para evaluación de los modelos\n",
    "\n",
    "kf = KFold(n_splits=8)\n",
    "\n",
    "sv =SVR(C=1.0, epsilon=0.5)\n",
    "\n",
    "#sv.fit(X_train, y_train)\n",
    "\n",
    "#scores = cross_val_score(sv, X_train, y_train, cv=kf, scoring=\"r2\")\n",
    "#print(\"Metricas cross_validation\", scores)"
   ]
  },
  {
   "cell_type": "code",
   "execution_count": 116,
   "id": "8efbb8ea",
   "metadata": {},
   "outputs": [
    {
     "name": "stdout",
     "output_type": "stream",
     "text": [
      "Best mean_squared_error: 0.079\n",
      "Best Config: {'kernel': 'rbf'}\n",
      ">0.102 with: {'kernel': 'linear'}\n",
      ">0.110 with: {'kernel': 'poly'}\n",
      ">0.079 with: {'kernel': 'rbf'}\n",
      ">0.082 with: {'kernel': 'sigmoid'}\n"
     ]
    }
   ],
   "source": [
    "# define grid\n",
    "grid1 = dict()\n",
    "grid1['kernel'] = ['linear', 'poly', 'rbf', 'sigmoid']\n",
    "sco=['neg_mean_squared_error','neg_median_absolute_error','r2']\n",
    "\n",
    "# define search\n",
    "\n",
    "search1 = GridSearchCV(sv, grid1, scoring='neg_mean_squared_error', cv=kf, n_jobs=-1)\n",
    "# perform the search\n",
    "results = search1.fit(X_train, Y_train)\n",
    "pos=(-1)* results.best_score_\n",
    "# summarize best\n",
    "print('Best mean_squared_error: %.3f' % pos)\n",
    "print('Best Config: %s' % results.best_params_)\n",
    "# summarize all\n",
    "means = results.cv_results_['mean_test_score']\n",
    "params = results.cv_results_['params']\n",
    "for mean, param in zip(means, params):\n",
    "    print(\">%.3f with: %r\" % (mean * -1, param))"
   ]
  },
  {
   "cell_type": "code",
   "execution_count": null,
   "id": "2d2feaef",
   "metadata": {},
   "outputs": [],
   "source": []
  }
 ],
 "metadata": {
  "kernelspec": {
   "display_name": "Python 3",
   "language": "python",
   "name": "python3"
  },
  "language_info": {
   "codemirror_mode": {
    "name": "ipython",
    "version": 3
   },
   "file_extension": ".py",
   "mimetype": "text/x-python",
   "name": "python",
   "nbconvert_exporter": "python",
   "pygments_lexer": "ipython3",
   "version": "3.8.8"
  }
 },
 "nbformat": 4,
 "nbformat_minor": 5
}
