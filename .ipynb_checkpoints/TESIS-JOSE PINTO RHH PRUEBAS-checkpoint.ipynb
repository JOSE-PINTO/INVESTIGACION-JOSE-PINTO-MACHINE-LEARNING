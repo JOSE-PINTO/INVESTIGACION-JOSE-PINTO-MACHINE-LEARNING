{
 "cells": [
  {
   "cell_type": "code",
   "execution_count": 1,
   "id": "72d62a18",
   "metadata": {},
   "outputs": [],
   "source": [
    "import scipy.io\n",
    "import copy\n",
    "import numpy as np \n",
    "import pandas as pd\n",
    "import matplotlib.pyplot as plt\n",
    "import time\n",
    "import pickle\n",
    "import scipy.io as sio\n",
    "from sklearn import svm\n",
    "from sklearn import linear_model\n",
    "import statsmodels.api as sm\n",
    "import statsmodels.formula.api as smf\n",
    "from sklearn import tree\n",
    "from sklearn.cluster import KMeans\n",
    "from scipy.stats import pearsonr\n",
    "from sklearn.linear_model import LinearRegression\n",
    "from sklearn.model_selection import train_test_split\n",
    "from sklearn.metrics import r2_score\n",
    "from sklearn.metrics import mean_squared_error\n",
    "from sklearn.metrics import confusion_matrix, precision_score, f1_score, recall_score\n",
    "from sklearn.model_selection import train_test_split\n",
    "from sklearn import datasets\n",
    "from sklearn.model_selection import cross_val_score\n",
    "from sklearn.model_selection import cross_validate\n",
    "from sklearn.metrics import recall_score\n",
    "from sklearn.model_selection import cross_val_predict\n",
    "from sklearn.metrics import median_absolute_error\n",
    "from sklearn.metrics import mean_squared_error\n",
    "from IPython.display import Image\n",
    "from sklearn.pipeline import make_pipeline\n",
    "from sklearn.svm import SVR\n",
    "from sklearn.preprocessing import StandardScaler\n",
    "from sklearn.neural_network import MLPRegressor\n",
    "from sklearn.datasets import make_regression\n",
    "from sklearn.model_selection import train_test_split\n",
    "from sklearn.neural_network import MLPRegressor\n",
    "from sklearn.datasets import make_regression\n",
    "from sklearn.model_selection import train_test_split\n",
    "from sklearn.model_selection import GridSearchCV \n",
    "from sklearn.model_selection import KFold\n",
    "from sklearn import preprocessing\n"
   ]
  },
  {
   "cell_type": "code",
   "execution_count": 2,
   "id": "c8227633",
   "metadata": {},
   "outputs": [],
   "source": [
    "#....\n",
    "def cargardatos(datos_tesis):\n",
    "\n",
    "    datos=pd.read_csv(datos_tesis, sep=',')\n",
    "    datos=datos.drop(['LOGICA COMPUTACIONAL','PROGRAMACION I','PROGRAMACION II','PROGRAMACION III'], axis=1)\n",
    "    \n",
    "\n",
    "    X = datos[['LECTURA CRITICA','MATEMATICA','INGLES','SOCIALES Y CIUDADANIA','CIENCIAS NATURALES']]\n",
    "    Y = datos['PROMEDIO PROGRAMACIONES']\n",
    "    X = X.to_numpy()\n",
    "    Y = Y.to_numpy()\n",
    "    return(X,Y)"
   ]
  },
  {
   "cell_type": "code",
   "execution_count": 3,
   "id": "9d4a2245",
   "metadata": {},
   "outputs": [],
   "source": [
    "X,Y=cargardatos('Datos-Tesis.csv')"
   ]
  },
  {
   "cell_type": "markdown",
   "id": "69d8951c",
   "metadata": {},
   "source": [
    "PREGUNTAR SOBRE LAMBDA COMO NUMERO DE REGULARIZACION? PREGUNTAR SOBRE LABMDA O ALPHA..."
   ]
  },
  {
   "cell_type": "code",
   "execution_count": 18,
   "id": "1505a3ef",
   "metadata": {},
   "outputs": [],
   "source": [
    "#https://scikit-learn.org/stable/modules/generated/sklearn.neural_network.MLPRegressor.html\n",
    "#MODELO DE PERCEPTRON\n",
    "#variando solver\n",
    "\n",
    "\n",
    "X_train, X_test, Y_train, Y_test = train_test_split(X, Y, test_size=0.2, random_state=0)\n",
    "#print(X_train, X_test, y_train, y_test)\n",
    "#Definir elementos para evaluación de los modelos\n",
    "\n",
    "\n",
    "kf = KFold(n_splits=5)\n",
    "mlp = MLPRegressor(random_state=1, max_iter=9000,hidden_layer_sizes=600)\n",
    "\n",
    "\n",
    "\n",
    "#sv.fit(X_train, y_train)\n",
    "#scores = cross_val_score(sv, X_train, y_train, cv=kf, scoring=\"r2\")\n",
    "#print(\"Metricas cross_validation\", scores)"
   ]
  },
  {
   "cell_type": "code",
   "execution_count": 19,
   "id": "a6f48c89",
   "metadata": {},
   "outputs": [
    {
     "name": "stdout",
     "output_type": "stream",
     "text": [
      "Best  r2: 0.569\n",
      "Best Config: {'alpha': 1e-08, 'solver': 'sgd'}\n",
      ">19.629 with: {'alpha': 0.0001, 'solver': 'lbfgs'}\n",
      ">0.645 with: {'alpha': 0.0001, 'solver': 'sgd'}\n",
      ">62.892 with: {'alpha': 0.0001, 'solver': 'adam'}\n",
      ">21.511 with: {'alpha': 1e-06, 'solver': 'lbfgs'}\n",
      ">0.580 with: {'alpha': 1e-06, 'solver': 'sgd'}\n",
      ">63.238 with: {'alpha': 1e-06, 'solver': 'adam'}\n",
      ">20.142 with: {'alpha': 1e-07, 'solver': 'lbfgs'}\n",
      ">0.571 with: {'alpha': 1e-07, 'solver': 'sgd'}\n",
      ">63.239 with: {'alpha': 1e-07, 'solver': 'adam'}\n",
      ">19.387 with: {'alpha': 1e-08, 'solver': 'lbfgs'}\n",
      ">0.569 with: {'alpha': 1e-08, 'solver': 'sgd'}\n",
      ">63.239 with: {'alpha': 1e-08, 'solver': 'adam'}\n"
     ]
    }
   ],
   "source": [
    "# define grid\n",
    "grid1 = dict()\n",
    "grid1['alpha'] = [0.0001,0.000001,0.0000001,0.00000001,]\n",
    "grid1['solver'] = ['lbfgs','sgd','adam']\n",
    "sco = ['neg_mean_squared_error','neg_median_absolute_error','r2']\n",
    "\n",
    "# define search\n",
    "\n",
    "search1 = GridSearchCV(mlp, grid1, scoring='r2', cv=kf, n_jobs=-1)\n",
    "# perform the search\n",
    "results = search1.fit(X_train, Y_train)\n",
    "pos=(-1)* results.best_score_\n",
    "# summarize best\n",
    "print('Best  r2: %.3f' % pos)\n",
    "print('Best Config: %s' % results.best_params_)\n",
    "# summarize all\n",
    "means = results.cv_results_['mean_test_score']\n",
    "params = results.cv_results_['params']\n",
    "for mean, param in zip(means, params):\n",
    "    print(\">%.3f with: %r\" % (mean * -1, param))\n",
    "    "
   ]
  },
  {
   "cell_type": "code",
   "execution_count": 6,
   "id": "a1e4c754",
   "metadata": {},
   "outputs": [
    {
     "name": "stdout",
     "output_type": "stream",
     "text": [
      "Best  neg_mean_squared_error: 0.081\n",
      "Best Config: {'alpha': 1e-08, 'solver': 'sgd'}\n",
      ">0.562 with: {'alpha': 0.0001, 'solver': 'lbfgs'}\n",
      ">0.082 with: {'alpha': 0.0001, 'solver': 'sgd'}\n",
      ">2.497 with: {'alpha': 0.0001, 'solver': 'adam'}\n",
      ">0.735 with: {'alpha': 1e-06, 'solver': 'lbfgs'}\n",
      ">0.081 with: {'alpha': 1e-06, 'solver': 'sgd'}\n",
      ">2.504 with: {'alpha': 1e-06, 'solver': 'adam'}\n",
      ">0.582 with: {'alpha': 1e-07, 'solver': 'lbfgs'}\n",
      ">0.081 with: {'alpha': 1e-07, 'solver': 'sgd'}\n",
      ">2.504 with: {'alpha': 1e-07, 'solver': 'adam'}\n",
      ">0.703 with: {'alpha': 1e-08, 'solver': 'lbfgs'}\n",
      ">0.081 with: {'alpha': 1e-08, 'solver': 'sgd'}\n",
      ">2.504 with: {'alpha': 1e-08, 'solver': 'adam'}\n",
      ">0.559 with: {'alpha': 1e-10, 'solver': 'lbfgs'}\n",
      ">0.081 with: {'alpha': 1e-10, 'solver': 'sgd'}\n",
      ">2.504 with: {'alpha': 1e-10, 'solver': 'adam'}\n"
     ]
    }
   ],
   "source": [
    "# define grid\n",
    "grid1 = dict()\n",
    "grid1['alpha'] = [0.0001,0.000001,0.0000001,0.00000001,0.0000000001]\n",
    "grid1['solver'] = ['lbfgs','sgd','adam']\n",
    "sco = ['neg_mean_squared_error','neg_median_absolute_error','r2']\n",
    "\n",
    "# define search\n",
    "\n",
    "search1 = GridSearchCV(mlp, grid1, scoring='neg_mean_squared_error', cv=kf, n_jobs=-1)\n",
    "# perform the search\n",
    "results = search1.fit(X_train, Y_train)\n",
    "pos=(-1)* results.best_score_\n",
    "# summarize best\n",
    "print('Best  neg_mean_squared_error: %.3f' % pos)\n",
    "print('Best Config: %s' % results.best_params_)\n",
    "# summarize all\n",
    "means = results.cv_results_['mean_test_score']\n",
    "params = results.cv_results_['params']\n",
    "for mean, param in zip(means, params):\n",
    "    print(\">%.3f with: %r\" % (mean * -1, param))"
   ]
  },
  {
   "cell_type": "code",
   "execution_count": 7,
   "id": "edb2ebe7",
   "metadata": {},
   "outputs": [
    {
     "name": "stdout",
     "output_type": "stream",
     "text": [
      "Best  neg_root_mean_squared_error: 0.277\n",
      "Best Config: {'alpha': 1e-08, 'solver': 'sgd'}\n",
      ">0.682 with: {'alpha': 0.0001, 'solver': 'lbfgs'}\n",
      ">0.280 with: {'alpha': 0.0001, 'solver': 'sgd'}\n",
      ">1.579 with: {'alpha': 0.0001, 'solver': 'adam'}\n",
      ">0.733 with: {'alpha': 1e-06, 'solver': 'lbfgs'}\n",
      ">0.278 with: {'alpha': 1e-06, 'solver': 'sgd'}\n",
      ">1.581 with: {'alpha': 1e-06, 'solver': 'adam'}\n",
      ">0.713 with: {'alpha': 1e-07, 'solver': 'lbfgs'}\n",
      ">0.277 with: {'alpha': 1e-07, 'solver': 'sgd'}\n",
      ">1.581 with: {'alpha': 1e-07, 'solver': 'adam'}\n",
      ">0.738 with: {'alpha': 1e-08, 'solver': 'lbfgs'}\n",
      ">0.277 with: {'alpha': 1e-08, 'solver': 'sgd'}\n",
      ">1.581 with: {'alpha': 1e-08, 'solver': 'adam'}\n",
      ">0.670 with: {'alpha': 1e-10, 'solver': 'lbfgs'}\n",
      ">0.277 with: {'alpha': 1e-10, 'solver': 'sgd'}\n",
      ">1.581 with: {'alpha': 1e-10, 'solver': 'adam'}\n"
     ]
    }
   ],
   "source": [
    "# define grid\n",
    "grid1 = dict()\n",
    "grid1['alpha'] = [0.0001,0.000001,0.0000001,0.00000001,0.0000000001]\n",
    "grid1['solver'] = ['lbfgs','sgd','adam']\n",
    "sco = ['neg_mean_squared_error','neg_median_absolute_error','r2']\n",
    "\n",
    "# define search\n",
    "\n",
    "search1 = GridSearchCV(mlp, grid1, scoring='neg_root_mean_squared_error', cv=kf, n_jobs=-1)\n",
    "# perform the search\n",
    "results = search1.fit(X_train, Y_train)\n",
    "pos=(-1)* results.best_score_\n",
    "# summarize best\n",
    "print('Best  neg_root_mean_squared_error: %.3f' % pos)\n",
    "print('Best Config: %s' % results.best_params_)\n",
    "# summarize all\n",
    "means = results.cv_results_['mean_test_score']\n",
    "params = results.cv_results_['params']\n",
    "for mean, param in zip(means, params):\n",
    "    print(\">%.3f with: %r\" % (mean * -1, param))\n"
   ]
  },
  {
   "cell_type": "markdown",
   "id": "a4c452f2",
   "metadata": {},
   "source": [
    "explicaciones de los modelos implementados \"metodologia\" (gaus-perceptron milticapa- SVR - Regresion lineal(mormal)  grid search)\n",
    "agregar los distintos resultados obtenidos´(KVL-GRID SEARCH VARIANDO \"C=\")"
   ]
  },
  {
   "cell_type": "markdown",
   "id": "8495ecc6",
   "metadata": {},
   "source": [
    "maximo de capas ocultas, ¿mayores a la cantidad de atributos o datos?\n"
   ]
  },
  {
   "cell_type": "code",
   "execution_count": 4,
   "id": "40b383f2",
   "metadata": {},
   "outputs": [],
   "source": [
    "\n",
    "    \n",
    "    \n",
    "    #https://scikit-learn.org/stable/modules/generated/sklearn.neural_network.MLPRegressor.html\n",
    "#MODELO DE PERCEPTRON\n",
    "#variando solver\n",
    "\n",
    "\n",
    "X_train, X_test, Y_train, Y_test = train_test_split(X, Y, test_size=0.2, random_state=0)\n",
    "#print(X_train, X_test, y_train, y_test)\n",
    "#Definir elementos para evaluación de los modelos\n",
    "\n",
    "\n",
    "kf = KFold(n_splits=5)\n",
    "mlp = MLPRegressor(random_state=1, max_iter=9000,hidden_layer_sizes=10)\n",
    "\n",
    "\n",
    "\n",
    "#sv.fit(X_train, y_train)\n",
    "#scores = cross_val_score(sv, X_train, y_train, cv=kf, scoring=\"r2\")\n",
    "#print(\"Metricas cross_validation\", scores)\n",
    "    \n",
    "    "
   ]
  },
  {
   "cell_type": "code",
   "execution_count": 5,
   "id": "6d21ace6",
   "metadata": {},
   "outputs": [
    {
     "name": "stdout",
     "output_type": "stream",
     "text": [
      "Best  r2: 0.709\n",
      "Best Config: {'alpha': 0.0001, 'solver': 'lbfgs'}\n",
      ">0.709 with: {'alpha': 0.0001, 'solver': 'lbfgs'}\n",
      ">116.345 with: {'alpha': 0.0001, 'solver': 'sgd'}\n",
      ">155.762 with: {'alpha': 0.0001, 'solver': 'adam'}\n",
      ">0.747 with: {'alpha': 1e-06, 'solver': 'lbfgs'}\n",
      ">116.345 with: {'alpha': 1e-06, 'solver': 'sgd'}\n",
      ">96.606 with: {'alpha': 1e-06, 'solver': 'adam'}\n",
      ">0.725 with: {'alpha': 1e-07, 'solver': 'lbfgs'}\n",
      ">116.345 with: {'alpha': 1e-07, 'solver': 'sgd'}\n",
      ">96.794 with: {'alpha': 1e-07, 'solver': 'adam'}\n",
      ">0.768 with: {'alpha': 1e-08, 'solver': 'lbfgs'}\n",
      ">116.345 with: {'alpha': 1e-08, 'solver': 'sgd'}\n",
      ">96.303 with: {'alpha': 1e-08, 'solver': 'adam'}\n"
     ]
    }
   ],
   "source": [
    "# define grid\n",
    "grid1 = dict()\n",
    "grid1['alpha'] = [0.0001,0.000001,0.0000001,0.00000001,]\n",
    "grid1['solver'] = ['lbfgs','sgd','adam']\n",
    "sco = ['neg_mean_squared_error','neg_median_absolute_error','r2']\n",
    "\n",
    "# define search\n",
    "\n",
    "search1 = GridSearchCV(mlp, grid1, scoring='r2', cv=kf, n_jobs=-1)\n",
    "# perform the search\n",
    "results = search1.fit(X_train, Y_train)\n",
    "pos=(-1)* results.best_score_\n",
    "# summarize best\n",
    "print('Best  r2: %.3f' % pos)\n",
    "print('Best Config: %s' % results.best_params_)\n",
    "# summarize all\n",
    "means = results.cv_results_['mean_test_score']\n",
    "params = results.cv_results_['params']\n",
    "for mean, param in zip(means, params):\n",
    "    print(\">%.3f with: %r\" % (mean * -1, param))\n",
    "    "
   ]
  },
  {
   "cell_type": "code",
   "execution_count": 26,
   "id": "54c1a723",
   "metadata": {},
   "outputs": [],
   "source": [
    "\n",
    "    \n",
    "    \n",
    "    #https://scikit-learn.org/stable/modules/generated/sklearn.neural_network.MLPRegressor.html\n",
    "#MODELO DE PERCEPTRON\n",
    "#variando solver\n",
    "\n",
    "\n",
    "X_train, X_test, Y_train, Y_test = train_test_split(X, Y, test_size=0.2, random_state=0)\n",
    "#print(X_train, X_test, y_train, y_test)\n",
    "#Definir elementos para evaluación de los modelos\n",
    "\n",
    "\n",
    "kf = KFold(n_splits=5)\n",
    "mlp = MLPRegressor(random_state=1, max_iter=9000,hidden_layer_sizes=2000)\n",
    "\n",
    "\n",
    "\n",
    "#sv.fit(X_train, y_train)\n",
    "#scores = cross_val_score(sv, X_train, y_train, cv=kf, scoring=\"r2\")\n",
    "#print(\"Metricas cross_validation\", scores)\n",
    "    "
   ]
  },
  {
   "cell_type": "code",
   "execution_count": 27,
   "id": "d2af85d8",
   "metadata": {},
   "outputs": [
    {
     "name": "stdout",
     "output_type": "stream",
     "text": [
      "Best  r2: 0.982\n",
      "Best Config: {'alpha': 0.0001, 'solver': 'sgd'}\n",
      ">18.299 with: {'alpha': 0.0001, 'solver': 'lbfgs'}\n",
      ">0.982 with: {'alpha': 0.0001, 'solver': 'sgd'}\n",
      ">21.708 with: {'alpha': 0.0001, 'solver': 'adam'}\n",
      ">17.490 with: {'alpha': 1e-06, 'solver': 'lbfgs'}\n",
      ">1.319 with: {'alpha': 1e-06, 'solver': 'sgd'}\n",
      ">19.231 with: {'alpha': 1e-06, 'solver': 'adam'}\n",
      ">21.559 with: {'alpha': 1e-07, 'solver': 'lbfgs'}\n",
      ">1.301 with: {'alpha': 1e-07, 'solver': 'sgd'}\n",
      ">19.232 with: {'alpha': 1e-07, 'solver': 'adam'}\n",
      ">22.243 with: {'alpha': 1e-08, 'solver': 'lbfgs'}\n",
      ">1.297 with: {'alpha': 1e-08, 'solver': 'sgd'}\n",
      ">19.232 with: {'alpha': 1e-08, 'solver': 'adam'}\n"
     ]
    }
   ],
   "source": [
    "# define grid\n",
    "grid1 = dict()\n",
    "grid1['alpha'] = [0.0001,0.000001,0.0000001,0.00000001,]\n",
    "grid1['solver'] = ['lbfgs','sgd','adam']\n",
    "sco = ['neg_mean_squared_error','neg_median_absolute_error','r2']\n",
    "\n",
    "# define search\n",
    "\n",
    "search1 = GridSearchCV(mlp, grid1, scoring='r2', cv=kf, n_jobs=-1)\n",
    "# perform the search\n",
    "results = search1.fit(X_train, Y_train)\n",
    "pos=(-1)* results.best_score_\n",
    "# summarize best\n",
    "print('Best  r2: %.3f' % pos)\n",
    "print('Best Config: %s' % results.best_params_)\n",
    "# summarize all\n",
    "means = results.cv_results_['mean_test_score']\n",
    "params = results.cv_results_['params']\n",
    "for mean, param in zip(means, params):\n",
    "    print(\">%.3f with: %r\" % (mean * -1, param))\n",
    "    "
   ]
  },
  {
   "cell_type": "code",
   "execution_count": 28,
   "id": "c054efea",
   "metadata": {},
   "outputs": [
    {
     "name": "stdout",
     "output_type": "stream",
     "text": [
      "Best  neg_mean_squared_error: 0.090\n",
      "Best Config: {'alpha': 0.0001, 'solver': 'sgd'}\n",
      ">0.615 with: {'alpha': 0.0001, 'solver': 'lbfgs'}\n",
      ">0.090 with: {'alpha': 0.0001, 'solver': 'sgd'}\n",
      ">0.878 with: {'alpha': 0.0001, 'solver': 'adam'}\n",
      ">0.620 with: {'alpha': 1e-06, 'solver': 'lbfgs'}\n",
      ">0.116 with: {'alpha': 1e-06, 'solver': 'sgd'}\n",
      ">0.784 with: {'alpha': 1e-06, 'solver': 'adam'}\n",
      ">0.735 with: {'alpha': 1e-07, 'solver': 'lbfgs'}\n",
      ">0.115 with: {'alpha': 1e-07, 'solver': 'sgd'}\n",
      ">0.784 with: {'alpha': 1e-07, 'solver': 'adam'}\n",
      ">0.604 with: {'alpha': 1e-08, 'solver': 'lbfgs'}\n",
      ">0.115 with: {'alpha': 1e-08, 'solver': 'sgd'}\n",
      ">0.784 with: {'alpha': 1e-08, 'solver': 'adam'}\n",
      ">0.686 with: {'alpha': 1e-10, 'solver': 'lbfgs'}\n",
      ">0.115 with: {'alpha': 1e-10, 'solver': 'sgd'}\n",
      ">0.784 with: {'alpha': 1e-10, 'solver': 'adam'}\n"
     ]
    }
   ],
   "source": [
    "# define grid\n",
    "grid1 = dict()\n",
    "grid1['alpha'] = [0.0001,0.000001,0.0000001,0.00000001,0.0000000001]\n",
    "grid1['solver'] = ['lbfgs','sgd','adam']\n",
    "sco = ['neg_mean_squared_error','neg_median_absolute_error','r2']\n",
    "\n",
    "# define search\n",
    "\n",
    "search1 = GridSearchCV(mlp, grid1, scoring='neg_mean_squared_error', cv=kf, n_jobs=-1)\n",
    "# perform the search\n",
    "results = search1.fit(X_train, Y_train)\n",
    "pos=(-1)* results.best_score_\n",
    "# summarize best\n",
    "print('Best  neg_mean_squared_error: %.3f' % pos)\n",
    "print('Best Config: %s' % results.best_params_)\n",
    "# summarize all\n",
    "means = results.cv_results_['mean_test_score']\n",
    "params = results.cv_results_['params']\n",
    "for mean, param in zip(means, params):\n",
    "    print(\">%.3f with: %r\" % (mean * -1, param))"
   ]
  },
  {
   "cell_type": "code",
   "execution_count": 29,
   "id": "8d6d3a51",
   "metadata": {},
   "outputs": [
    {
     "name": "stdout",
     "output_type": "stream",
     "text": [
      "Best  neg_root_mean_squared_error: 0.296\n",
      "Best Config: {'alpha': 0.0001, 'solver': 'sgd'}\n",
      ">0.714 with: {'alpha': 0.0001, 'solver': 'lbfgs'}\n",
      ">0.296 with: {'alpha': 0.0001, 'solver': 'sgd'}\n",
      ">0.933 with: {'alpha': 0.0001, 'solver': 'adam'}\n",
      ">0.707 with: {'alpha': 1e-06, 'solver': 'lbfgs'}\n",
      ">0.326 with: {'alpha': 1e-06, 'solver': 'sgd'}\n",
      ">0.880 with: {'alpha': 1e-06, 'solver': 'adam'}\n",
      ">0.742 with: {'alpha': 1e-07, 'solver': 'lbfgs'}\n",
      ">0.326 with: {'alpha': 1e-07, 'solver': 'sgd'}\n",
      ">0.880 with: {'alpha': 1e-07, 'solver': 'adam'}\n",
      ">0.702 with: {'alpha': 1e-08, 'solver': 'lbfgs'}\n",
      ">0.325 with: {'alpha': 1e-08, 'solver': 'sgd'}\n",
      ">0.880 with: {'alpha': 1e-08, 'solver': 'adam'}\n",
      ">0.744 with: {'alpha': 1e-10, 'solver': 'lbfgs'}\n",
      ">0.325 with: {'alpha': 1e-10, 'solver': 'sgd'}\n",
      ">0.880 with: {'alpha': 1e-10, 'solver': 'adam'}\n"
     ]
    }
   ],
   "source": [
    "# define grid\n",
    "grid1 = dict()\n",
    "grid1['alpha'] = [0.0001,0.000001,0.0000001,0.00000001,0.0000000001]\n",
    "grid1['solver'] = ['lbfgs','sgd','adam']\n",
    "sco = ['neg_mean_squared_error','neg_median_absolute_error','r2']\n",
    "\n",
    "# define search\n",
    "\n",
    "search1 = GridSearchCV(mlp, grid1, scoring='neg_root_mean_squared_error', cv=kf, n_jobs=-1)\n",
    "# perform the search\n",
    "results = search1.fit(X_train, Y_train)\n",
    "pos=(-1)* results.best_score_\n",
    "# summarize best\n",
    "print('Best  neg_root_mean_squared_error: %.3f' % pos)\n",
    "print('Best Config: %s' % results.best_params_)\n",
    "# summarize all\n",
    "means = results.cv_results_['mean_test_score']\n",
    "params = results.cv_results_['params']\n",
    "for mean, param in zip(means, params):\n",
    "    print(\">%.3f with: %r\" % (mean * -1, param))\n"
   ]
  },
  {
   "cell_type": "code",
   "execution_count": null,
   "id": "9e59e39d",
   "metadata": {},
   "outputs": [],
   "source": []
  }
 ],
 "metadata": {
  "kernelspec": {
   "display_name": "Python 3",
   "language": "python",
   "name": "python3"
  },
  "language_info": {
   "codemirror_mode": {
    "name": "ipython",
    "version": 3
   },
   "file_extension": ".py",
   "mimetype": "text/x-python",
   "name": "python",
   "nbconvert_exporter": "python",
   "pygments_lexer": "ipython3",
   "version": "3.8.8"
  }
 },
 "nbformat": 4,
 "nbformat_minor": 5
}
