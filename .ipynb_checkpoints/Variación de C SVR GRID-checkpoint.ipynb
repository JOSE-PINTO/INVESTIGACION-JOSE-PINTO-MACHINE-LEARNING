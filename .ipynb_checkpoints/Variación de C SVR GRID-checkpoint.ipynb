{
 "cells": [
  {
   "cell_type": "code",
   "execution_count": 1,
   "id": "3ea29b7d",
   "metadata": {},
   "outputs": [],
   "source": [
    "#Librerias implementadas\n",
    "import scipy.io\n",
    "import copy\n",
    "import numpy as np \n",
    "import pandas as pd\n",
    "import matplotlib.pyplot as plt\n",
    "import time\n",
    "import pickle\n",
    "import scipy.io as sio\n",
    "from sklearn import svm\n",
    "from sklearn import linear_model\n",
    "import statsmodels.api as sm\n",
    "import statsmodels.formula.api as smf\n",
    "from sklearn import tree\n",
    "from sklearn.cluster import KMeans\n",
    "from scipy.stats import pearsonr\n",
    "from sklearn.linear_model import LinearRegression\n",
    "from sklearn.model_selection import train_test_split\n",
    "from sklearn.metrics import r2_score\n",
    "from sklearn.metrics import mean_squared_error\n",
    "from sklearn.metrics import confusion_matrix, precision_score, f1_score, recall_score\n",
    "from sklearn.model_selection import train_test_split\n",
    "from sklearn import datasets\n",
    "from sklearn.model_selection import cross_val_score\n",
    "from sklearn.model_selection import cross_validate\n",
    "from sklearn.metrics import recall_score\n",
    "from sklearn.model_selection import cross_val_predict\n",
    "from sklearn.metrics import median_absolute_error\n",
    "from sklearn.metrics import mean_squared_error\n",
    "from IPython.display import Image\n",
    "from sklearn.pipeline import make_pipeline\n",
    "from sklearn.svm import SVR\n",
    "from sklearn.preprocessing import StandardScaler\n",
    "from sklearn.neural_network import MLPRegressor\n",
    "from sklearn.datasets import make_regression\n",
    "from sklearn.model_selection import train_test_split\n",
    "from sklearn.model_selection import GridSearchCV \n",
    "from sklearn.model_selection import KFold"
   ]
  },
  {
   "cell_type": "code",
   "execution_count": 2,
   "id": "b0cc2581",
   "metadata": {},
   "outputs": [],
   "source": [
    "#....\n",
    "def cargardatos(datos_tesis):\n",
    "\n",
    "    datos=pd.read_csv(datos_tesis, sep=',')\n",
    "    datos=datos.drop(['LOGICA COMPUTACIONAL','PROGRAMACION I','PROGRAMACION II','PROGRAMACION III'], axis=1)\n",
    "    \n",
    "\n",
    "    X = datos[['LECTURA CRITICA','MATEMATICA','INGLES','SOCIALES Y CIUDADANIA','CIENCIAS NATURALES']]\n",
    "    Y = datos['PROMEDIO PROGRAMACIONES']\n",
    "    X = X.to_numpy()\n",
    "    Y = Y.to_numpy()\n",
    "    return(X,Y)"
   ]
  },
  {
   "cell_type": "code",
   "execution_count": 5,
   "id": "645f018a",
   "metadata": {},
   "outputs": [],
   "source": [
    "X,Y=cargardatos('Datos-Tesis.csv')\n"
   ]
  },
  {
   "cell_type": "code",
   "execution_count": 6,
   "id": "ac18ce0b",
   "metadata": {},
   "outputs": [],
   "source": [
    "#MODELO DE SUPPORT VECTOR REGRESSION\n",
    "\n",
    "\n",
    "#Definir la cantidad de datos que se asignarán al conjunto de entrenamiento y de prueba\n",
    "X_train, X_test, Y_train, Y_test = train_test_split(X, Y, test_size=0.2, random_state=0)\n",
    "#print(X_train, X_test, y_train, y_test)\n",
    "#Definir elementos para evaluación de los modelos\n",
    "\n",
    "kf = KFold(n_splits=5)\n",
    "\n",
    "sv =SVR(C=1.0, epsilon=0.5)\n",
    "\n",
    "#sv.fit(X_train, y_train)\n",
    "\n",
    "#scores = cross_val_score(sv, X_train, y_train, cv=kf, scoring=\"r2\")\n",
    "#print(\"Metricas cross_validation\", scores)\n"
   ]
  },
  {
   "cell_type": "code",
   "execution_count": 7,
   "id": "b0843949",
   "metadata": {},
   "outputs": [
    {
     "name": "stdout",
     "output_type": "stream",
     "text": [
      "Best  r2: 0.641\n",
      "Best Config: {'kernel': 'rbf'}\n",
      ">1.633 with: {'kernel': 'linear'}\n",
      ">1.539 with: {'kernel': 'poly'}\n",
      ">0.641 with: {'kernel': 'rbf'}\n",
      ">0.892 with: {'kernel': 'sigmoid'}\n"
     ]
    }
   ],
   "source": [
    "# define grid\n",
    "grid1 = dict()\n",
    "grid1['kernel'] = ['linear', 'poly', 'rbf', 'sigmoid']\n",
    "sco=['neg_mean_squared_error','neg_median_absolute_error','r2']\n",
    "\n",
    "# define search\n",
    "\n",
    "search1 = GridSearchCV(sv, grid1, scoring='r2', cv=kf, n_jobs=-1)\n",
    "# perform the search\n",
    "results = search1.fit(X_train, Y_train)\n",
    "pos=(-1)* results.best_score_\n",
    "# summarize best\n",
    "print('Best  r2: %.3f' % pos)\n",
    "print('Best Config: %s' % results.best_params_)\n",
    "# summarize all\n",
    "means = results.cv_results_['mean_test_score']\n",
    "params = results.cv_results_['params']\n",
    "for mean, param in zip(means, params):\n",
    "    print(\">%.3f with: %r\" % (mean * -1, param))\n",
    "    "
   ]
  },
  {
   "cell_type": "code",
   "execution_count": 13,
   "id": "031c13a6",
   "metadata": {},
   "outputs": [],
   "source": [
    "\n"
   ]
  },
  {
   "cell_type": "code",
   "execution_count": 8,
   "id": "320523b6",
   "metadata": {},
   "outputs": [],
   "source": [
    "#MODELO DE SUPPORT VECTOR REGRESSION\n",
    "\n",
    "\n",
    "#Definir la cantidad de datos que se asignarán al conjunto de entrenamiento y de prueba\n",
    "X_train, X_test, Y_train, Y_test = train_test_split(X, Y, test_size=0.2, random_state=0)\n",
    "#print(X_train, X_test, y_train, y_test)\n",
    "#Definir elementos para evaluación de los modelos\n",
    "\n",
    "kf = KFold(n_splits=5)\n",
    "\n",
    "sv =SVR(C=1.0, epsilon=0.5)\n",
    "\n",
    "#sv.fit(X_train, y_train)\n",
    "\n",
    "#scores = cross_val_score(sv, X_train, y_train, cv=kf, scoring=\"r2\")\n",
    "#print(\"Metricas cross_validation\", scores)"
   ]
  },
  {
   "cell_type": "code",
   "execution_count": 9,
   "id": "e1a66959",
   "metadata": {},
   "outputs": [
    {
     "name": "stdout",
     "output_type": "stream",
     "text": [
      "Best  r2: 0.641\n",
      "Best Config: {'kernel': 'rbf'}\n",
      ">1.633 with: {'kernel': 'linear'}\n",
      ">1.539 with: {'kernel': 'poly'}\n",
      ">0.641 with: {'kernel': 'rbf'}\n",
      ">0.892 with: {'kernel': 'sigmoid'}\n"
     ]
    }
   ],
   "source": [
    "# define grid\n",
    "grid1 = dict()\n",
    "grid1['kernel'] = ['linear', 'poly', 'rbf', 'sigmoid']\n",
    "sco=['neg_mean_squared_error','neg_median_absolute_error','r2']\n",
    "\n",
    "# define search\n",
    "\n",
    "search1 = GridSearchCV(sv, grid1, scoring='r2', cv=kf, n_jobs=-1)\n",
    "# perform the search\n",
    "results = search1.fit(X_train, Y_train)\n",
    "pos=(-1)* results.best_score_\n",
    "# summarize best\n",
    "print('Best  r2: %.3f' % pos)\n",
    "print('Best Config: %s' % results.best_params_)\n",
    "# summarize all\n",
    "means = results.cv_results_['mean_test_score']\n",
    "params = results.cv_results_['params']\n",
    "for mean, param in zip(means, params):\n",
    "    print(\">%.3f with: %r\" % (mean * -1, param))"
   ]
  },
  {
   "cell_type": "code",
   "execution_count": null,
   "id": "8622b9a0",
   "metadata": {},
   "outputs": [],
   "source": []
  },
  {
   "cell_type": "code",
   "execution_count": 10,
   "id": "7c7387e0",
   "metadata": {},
   "outputs": [],
   "source": [
    "#MODELO DE SUPPORT VECTOR REGRESSION\n",
    "\n",
    "\n",
    "#Definir la cantidad de datos que se asignarán al conjunto de entrenamiento y de prueba\n",
    "X_train, X_test, Y_train, Y_test = train_test_split(X, Y, test_size=0.2, random_state=0)\n",
    "#print(X_train, X_test, y_train, y_test)\n",
    "#Definir elementos para evaluación de los modelos\n",
    "\n",
    "kf = KFold(n_splits=5)\n",
    "\n",
    "sv =SVR(C=1.0, epsilon=0.5)\n",
    "\n",
    "#sv.fit(X_train, y_train)\n",
    "\n",
    "#scores = cross_val_score(sv, X_train, y_train, cv=kf, scoring=\"r2\")\n",
    "#print(\"Metricas cross_validation\", scores)"
   ]
  },
  {
   "cell_type": "code",
   "execution_count": 11,
   "id": "64992d19",
   "metadata": {},
   "outputs": [
    {
     "name": "stdout",
     "output_type": "stream",
     "text": [
      "Best mean_squared_error: 0.084\n",
      "Best Config: {'kernel': 'rbf'}\n",
      ">0.121 with: {'kernel': 'linear'}\n",
      ">0.123 with: {'kernel': 'poly'}\n",
      ">0.084 with: {'kernel': 'rbf'}\n",
      ">0.096 with: {'kernel': 'sigmoid'}\n"
     ]
    }
   ],
   "source": [
    "# define grid\n",
    "grid1 = dict()\n",
    "grid1['kernel'] = ['linear', 'poly', 'rbf', 'sigmoid']\n",
    "sco=['neg_mean_squared_error','neg_median_absolute_error','r2']\n",
    "\n",
    "# define search\n",
    "\n",
    "search1 = GridSearchCV(sv, grid1, scoring='neg_mean_squared_error', cv=kf, n_jobs=-1)\n",
    "# perform the search\n",
    "results = search1.fit(X_train, Y_train)\n",
    "pos=(-1)* results.best_score_\n",
    "# summarize best\n",
    "print('Best mean_squared_error: %.3f' % pos)\n",
    "print('Best Config: %s' % results.best_params_)\n",
    "# summarize all\n",
    "means = results.cv_results_['mean_test_score']\n",
    "params = results.cv_results_['params']\n",
    "for mean, param in zip(means, params):\n",
    "    print(\">%.3f with: %r\" % (mean * -1, param))"
   ]
  },
  {
   "cell_type": "code",
   "execution_count": null,
   "id": "26da3119",
   "metadata": {},
   "outputs": [],
   "source": []
  },
  {
   "cell_type": "code",
   "execution_count": null,
   "id": "8b0a71a4",
   "metadata": {},
   "outputs": [],
   "source": []
  }
 ],
 "metadata": {
  "kernelspec": {
   "display_name": "Python 3",
   "language": "python",
   "name": "python3"
  },
  "language_info": {
   "codemirror_mode": {
    "name": "ipython",
    "version": 3
   },
   "file_extension": ".py",
   "mimetype": "text/x-python",
   "name": "python",
   "nbconvert_exporter": "python",
   "pygments_lexer": "ipython3",
   "version": "3.8.8"
  }
 },
 "nbformat": 4,
 "nbformat_minor": 5
}
