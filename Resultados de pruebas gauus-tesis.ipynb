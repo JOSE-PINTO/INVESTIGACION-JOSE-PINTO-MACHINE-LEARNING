{
 "cells": [
  {
   "cell_type": "code",
   "execution_count": 32,
   "id": "e8da3884",
   "metadata": {},
   "outputs": [],
   "source": [
    "#Librerias implementadas\n",
    "import scipy.io\n",
    "import copy\n",
    "import numpy as np \n",
    "import pandas as pd\n",
    "import matplotlib.pyplot as plt\n",
    "import time\n",
    "import pickle\n",
    "import scipy.io as sio\n",
    "from sklearn import svm\n",
    "from sklearn import linear_model\n",
    "import statsmodels.api as sm\n",
    "import statsmodels.formula.api as smf\n",
    "from sklearn import tree\n",
    "from sklearn.cluster import KMeans\n",
    "from scipy.stats import pearsonr\n",
    "from sklearn.linear_model import LinearRegression\n",
    "from sklearn.model_selection import train_test_split\n",
    "from sklearn.metrics import r2_score\n",
    "from sklearn.metrics import mean_squared_error\n",
    "from sklearn.metrics import confusion_matrix, precision_score, f1_score, recall_score\n",
    "from sklearn.model_selection import train_test_split\n",
    "from sklearn import datasets\n",
    "from sklearn.model_selection import cross_val_score\n",
    "from sklearn.model_selection import cross_validate\n",
    "from sklearn.metrics import recall_score\n",
    "from sklearn.model_selection import cross_val_predict\n",
    "from sklearn.metrics import median_absolute_error\n",
    "from sklearn.metrics import mean_squared_error\n",
    "from IPython.display import Image\n",
    "from sklearn.pipeline import make_pipeline\n",
    "from sklearn.svm import SVR\n",
    "from sklearn.preprocessing import StandardScaler\n",
    "from sklearn.neural_network import MLPRegressor\n",
    "from sklearn.datasets import make_regression\n",
    "from sklearn.model_selection import train_test_split\n",
    "from sklearn.model_selection import GridSearchCV \n",
    "from sklearn.model_selection import KFold\n",
    "from sklearn.gaussian_process import GaussianProcessRegressor\n",
    "from sklearn.gaussian_process.kernels import RBF, DotProduct\n"
   ]
  },
  {
   "cell_type": "code",
   "execution_count": 33,
   "id": "e68d1a58",
   "metadata": {},
   "outputs": [],
   "source": [
    "#....\n",
    "def cargardatos(datos_tesis):\n",
    "\n",
    "    datos=pd.read_csv(datos_tesis, sep=',')\n",
    "    datos=datos.drop(['LOGICA COMPUTACIONAL','PROGRAMACION I','PROGRAMACION II','PROGRAMACION III'], axis=1)\n",
    "    \n",
    "\n",
    "    X = datos[['LECTURA CRITICA','MATEMATICA','INGLES','SOCIALES Y CIUDADANIA','CIENCIAS NATURALES']]\n",
    "    Y = datos['PROMEDIO PROGRAMACIONES']\n",
    "    X = X.to_numpy()\n",
    "    Y = Y.to_numpy()\n",
    "    return(X,Y)"
   ]
  },
  {
   "cell_type": "code",
   "execution_count": 40,
   "id": "1d0b7f95",
   "metadata": {},
   "outputs": [],
   "source": [
    "X,Y=cargardatos('Datos-Tesis.csv')\n"
   ]
  },
  {
   "cell_type": "code",
   "execution_count": 41,
   "id": "500443ec",
   "metadata": {},
   "outputs": [],
   "source": [
    "#MODELO DE gaussian\n",
    "#Definir la cantidad de datos que se asignarán al conjunto de entrenamiento y de prueba\n",
    "X_train, X_test, Y_train, Y_test = train_test_split(X, Y, test_size=0.2, random_state=0)\n",
    "#print(X_train, X_test, y_train, y_test)\n",
    "#Definir elementos para evaluación de los modelos\n",
    "\n",
    "kf = KFold(n_splits=5)\n",
    "gaussian = GaussianProcessRegressor()\n",
    "\n",
    "\n",
    "#sv.fit(X_train, y_train)\n",
    "\n",
    "#scores = cross_val_score(sv, X_train, y_train, cv=kf, scoring=\"r2\")\n",
    "#print(\"Metricas cross_validation\", scores)\n"
   ]
  },
  {
   "cell_type": "code",
   "execution_count": 5,
   "id": "318ec85a",
   "metadata": {},
   "outputs": [
    {
     "name": "stdout",
     "output_type": "stream",
     "text": [
      "Best  r2: 0.437\n",
      "Best Config: {'alpha': 0.001, 'kernel': DotProduct(sigma_0=10)}\n",
      ">263.298 with: {'alpha': 0.01, 'kernel': RBF(length_scale=0.1)}\n",
      ">1.352 with: {'alpha': 0.01, 'kernel': RBF(length_scale=10)}\n",
      ">263.294 with: {'alpha': 0.001, 'kernel': RBF(length_scale=0.1)}\n",
      ">7.834 with: {'alpha': 0.001, 'kernel': RBF(length_scale=10)}\n",
      ">0.441 with: {'alpha': 0.01, 'kernel': DotProduct(sigma_0=0.1)}\n",
      ">0.441 with: {'alpha': 0.01, 'kernel': DotProduct(sigma_0=10)}\n",
      ">0.439 with: {'alpha': 0.001, 'kernel': DotProduct(sigma_0=0.1)}\n",
      ">0.437 with: {'alpha': 0.001, 'kernel': DotProduct(sigma_0=10)}\n"
     ]
    }
   ],
   "source": [
    "# define grid\n",
    "grid1 = dict()\n",
    "grid1['kernel'] = [ 'RBF', 'sigmoid']\n",
    "sco=['neg_mean_squared_error','neg_median_absolute_error','r2']\n",
    "\n",
    "param_grid = [{\n",
    "    \"alpha\":  [1e-2, 1e-3],\n",
    "    \"kernel\": [RBF(l) for l in np.logspace(-1, 1, 2)]\n",
    "}, {\n",
    "    \"alpha\":  [1e-2, 1e-3],\n",
    "    \"kernel\": [DotProduct(sigma_0) for sigma_0 in np.logspace(-1, 1, 2)]\n",
    "}]\n",
    "\n",
    "\n",
    "# define search\n",
    "\n",
    "search1 = GridSearchCV(gaussian, param_grid=param_grid, scoring='r2', cv=kf, n_jobs=-1)\n",
    "# perform the search\n",
    "results = search1.fit(X_train, Y_train)\n",
    "pos=(-1)* results.best_score_\n",
    "# summarize best\n",
    "print('Best  r2: %.3f' % pos)\n",
    "print('Best Config: %s' % results.best_params_)\n",
    "# summarize all\n",
    "means = results.cv_results_['mean_test_score']\n",
    "params = results.cv_results_['params']\n",
    "for mean, param in zip(means, params):\n",
    "    print(\">%.3f with: %r\" % (mean * -1, param))"
   ]
  },
  {
   "cell_type": "code",
   "execution_count": null,
   "id": "7a170862",
   "metadata": {},
   "outputs": [],
   "source": []
  },
  {
   "cell_type": "code",
   "execution_count": 19,
   "id": "fbdf1138",
   "metadata": {},
   "outputs": [
    {
     "name": "stdout",
     "output_type": "stream",
     "text": [
      "Best  neg_mean_squared_error: 0.057\n",
      "Best Config: {'alpha': 0.001, 'kernel': DotProduct(sigma_0=10)}\n",
      ">11.097 with: {'alpha': 0.01, 'kernel': RBF(length_scale=0.1)}\n",
      ">0.100 with: {'alpha': 0.01, 'kernel': RBF(length_scale=10)}\n",
      ">11.097 with: {'alpha': 0.001, 'kernel': RBF(length_scale=0.1)}\n",
      ">0.490 with: {'alpha': 0.001, 'kernel': RBF(length_scale=10)}\n",
      ">0.058 with: {'alpha': 0.01, 'kernel': DotProduct(sigma_0=0.1)}\n",
      ">0.058 with: {'alpha': 0.01, 'kernel': DotProduct(sigma_0=10)}\n",
      ">0.058 with: {'alpha': 0.001, 'kernel': DotProduct(sigma_0=0.1)}\n",
      ">0.057 with: {'alpha': 0.001, 'kernel': DotProduct(sigma_0=10)}\n"
     ]
    }
   ],
   "source": [
    "# define grid\n",
    "grid1 = dict()\n",
    "grid1['kernel'] = [ 'RBF', 'sigmoid']\n",
    "sco=['neg_mean_squared_error','neg_median_absolute_error','r2']\n",
    "\n",
    "param_grid = [{\n",
    "    \"alpha\":  [1e-2, 1e-3],\n",
    "    \"kernel\": [RBF(l) for l in np.logspace(-1, 1, 2)]\n",
    "}, {\n",
    "    \"alpha\":  [1e-2, 1e-3],\n",
    "    \"kernel\": [DotProduct(sigma_0) for sigma_0 in np.logspace(-1, 1, 2)]\n",
    "}]\n",
    "\n",
    "\n",
    "# define search\n",
    "\n",
    "search1 = GridSearchCV(gaussian, param_grid=param_grid, scoring='neg_mean_squared_error', cv=kf, n_jobs=-1)\n",
    "# perform the search\n",
    "results = search1.fit(X_train, Y_train)\n",
    "pos=(-1)* results.best_score_\n",
    "# summarize best\n",
    "print('Best  neg_mean_squarrred_eor: %.3f' % pos)\n",
    "print('Best Config: %s' % results.best_params_)\n",
    "# summarize all\n",
    "means = results.cv_results_['mean_test_score']\n",
    "params = results.cv_results_['params']\n",
    "for mean, param in zip(means, params):\n",
    "    print(\">%.3f with: %r\" % (mean * -1, param))"
   ]
  },
  {
   "cell_type": "code",
   "execution_count": null,
   "id": "d26eb30a",
   "metadata": {},
   "outputs": [],
   "source": []
  },
  {
   "cell_type": "code",
   "execution_count": 20,
   "id": "c12334d6",
   "metadata": {},
   "outputs": [
    {
     "name": "stdout",
     "output_type": "stream",
     "text": [
      "Best  neg_median_absolute_error: 0.184\n",
      "Best Config: {'alpha': 0.01, 'kernel': DotProduct(sigma_0=10)}\n",
      ">3.523 with: {'alpha': 0.01, 'kernel': RBF(length_scale=0.1)}\n",
      ">0.205 with: {'alpha': 0.01, 'kernel': RBF(length_scale=10)}\n",
      ">3.523 with: {'alpha': 0.001, 'kernel': RBF(length_scale=0.1)}\n",
      ">0.290 with: {'alpha': 0.001, 'kernel': RBF(length_scale=10)}\n",
      ">0.184 with: {'alpha': 0.01, 'kernel': DotProduct(sigma_0=0.1)}\n",
      ">0.184 with: {'alpha': 0.01, 'kernel': DotProduct(sigma_0=10)}\n",
      ">0.184 with: {'alpha': 0.001, 'kernel': DotProduct(sigma_0=0.1)}\n",
      ">0.184 with: {'alpha': 0.001, 'kernel': DotProduct(sigma_0=10)}\n"
     ]
    }
   ],
   "source": [
    "# define grid\n",
    "grid1 = dict()\n",
    "grid1['kernel'] = [ 'RBF', 'sigmoid']\n",
    "sco=['neg_mean_squared_error','neg_median_absolute_error','r2']\n",
    "\n",
    "param_grid = [{\n",
    "    \"alpha\":  [1e-2, 1e-3],\n",
    "    \"kernel\": [RBF(l) for l in np.logspace(-1, 1, 2)]\n",
    "}, {\n",
    "    \"alpha\":  [1e-2, 1e-3],\n",
    "    \"kernel\": [DotProduct(sigma_0) for sigma_0 in np.logspace(-1, 1, 2)]\n",
    "}]\n",
    "\n",
    "\n",
    "# define search\n",
    "\n",
    "search1 = GridSearchCV(gaussian, param_grid=param_grid, scoring='neg_median_absolute_error', cv=kf, n_jobs=-1)\n",
    "# perform the search\n",
    "results = search1.fit(X_train, Y_train)\n",
    "pos=(-1)* results.best_score_\n",
    "# summarize best\n",
    "print('Best  neg_median_absolute_error: %.3f' % pos)\n",
    "print('Best Config: %s' % results.best_params_)\n",
    "# summarize all\n",
    "means = results.cv_results_['mean_test_score']\n",
    "params = results.cv_results_['params']\n",
    "for mean, param in zip(means, params):\n",
    "    print(\">%.3f with: %r\" % (mean * -1, param))"
   ]
  },
  {
   "cell_type": "code",
   "execution_count": null,
   "id": "a64749aa",
   "metadata": {},
   "outputs": [],
   "source": []
  },
  {
   "cell_type": "code",
   "execution_count": 6,
   "id": "a3240e83",
   "metadata": {},
   "outputs": [
    {
     "name": "stdout",
     "output_type": "stream",
     "text": [
      "Best  explained_variance: 0.084\n",
      "Best Config: {'alpha': 0.001, 'kernel': DotProduct(sigma_0=10)}\n",
      ">34.562 with: {'alpha': 0.01, 'kernel': RBF(length_scale=0.1)}\n",
      ">1.090 with: {'alpha': 0.01, 'kernel': RBF(length_scale=10)}\n",
      ">35.179 with: {'alpha': 0.001, 'kernel': RBF(length_scale=0.1)}\n",
      ">5.719 with: {'alpha': 0.001, 'kernel': RBF(length_scale=10)}\n",
      ">0.087 with: {'alpha': 0.01, 'kernel': DotProduct(sigma_0=0.1)}\n",
      ">0.087 with: {'alpha': 0.01, 'kernel': DotProduct(sigma_0=10)}\n",
      ">0.084 with: {'alpha': 0.001, 'kernel': DotProduct(sigma_0=0.1)}\n",
      ">0.084 with: {'alpha': 0.001, 'kernel': DotProduct(sigma_0=10)}\n"
     ]
    }
   ],
   "source": [
    "# define grid\n",
    "grid1 = dict()\n",
    "grid1['kernel'] = [ 'RBF', 'sigmoid']\n",
    "sco=['neg_mean_squared_error','neg_median_absolute_error','r2']\n",
    "\n",
    "param_grid = [{\n",
    "    \"alpha\":  [1e-2, 1e-3],\n",
    "    \"kernel\": [RBF(l) for l in np.logspace(-1, 1, 2)]\n",
    "}, {\n",
    "    \"alpha\":  [1e-2, 1e-3],\n",
    "    \"kernel\": [DotProduct(sigma_0) for sigma_0 in np.logspace(-1, 1, 2)]\n",
    "}]\n",
    "\n",
    "\n",
    "# define search\n",
    "\n",
    "search1 = GridSearchCV(gaussian, param_grid=param_grid, scoring='explained_variance', cv=kf, n_jobs=-1)\n",
    "# perform the search\n",
    "results = search1.fit(X_train, Y_train)\n",
    "pos=(-1)* results.best_score_\n",
    "# summarize best\n",
    "print('Best  explained_variance: %.3f' % pos)\n",
    "print('Best Config: %s' % results.best_params_)\n",
    "# summarize all\n",
    "means = results.cv_results_['mean_test_score']\n",
    "params = results.cv_results_['params']\n",
    "for mean, param in zip(means, params):\n",
    "    print(\">%.3f with: %r\" % (mean * -1, param))"
   ]
  },
  {
   "cell_type": "code",
   "execution_count": null,
   "id": "b323d6df",
   "metadata": {},
   "outputs": [],
   "source": []
  },
  {
   "cell_type": "code",
   "execution_count": 7,
   "id": "e1f36345",
   "metadata": {},
   "outputs": [
    {
     "name": "stdout",
     "output_type": "stream",
     "text": [
      "Best  max_error: 0.412\n",
      "Best Config: {'alpha': 0.001, 'kernel': DotProduct(sigma_0=10)}\n",
      ">3.892 with: {'alpha': 0.01, 'kernel': RBF(length_scale=0.1)}\n",
      ">0.520 with: {'alpha': 0.01, 'kernel': RBF(length_scale=10)}\n",
      ">3.892 with: {'alpha': 0.001, 'kernel': RBF(length_scale=0.1)}\n",
      ">1.149 with: {'alpha': 0.001, 'kernel': RBF(length_scale=10)}\n",
      ">0.412 with: {'alpha': 0.01, 'kernel': DotProduct(sigma_0=0.1)}\n",
      ">0.412 with: {'alpha': 0.01, 'kernel': DotProduct(sigma_0=10)}\n",
      ">0.413 with: {'alpha': 0.001, 'kernel': DotProduct(sigma_0=0.1)}\n",
      ">0.412 with: {'alpha': 0.001, 'kernel': DotProduct(sigma_0=10)}\n"
     ]
    }
   ],
   "source": [
    "# define grid\n",
    "grid1 = dict()\n",
    "grid1['kernel'] = [ 'RBF', 'sigmoid']\n",
    "sco=['neg_mean_squared_error','neg_median_absolute_error','r2']\n",
    "\n",
    "param_grid = [{\n",
    "    \"alpha\":  [1e-2, 1e-3],\n",
    "    \"kernel\": [RBF(l) for l in np.logspace(-1, 1, 2)]\n",
    "}, {\n",
    "    \"alpha\":  [1e-2, 1e-3],\n",
    "    \"kernel\": [DotProduct(sigma_0) for sigma_0 in np.logspace(-1, 1, 2)]\n",
    "}]\n",
    "\n",
    "\n",
    "# define search\n",
    "\n",
    "search1 = GridSearchCV(gaussian, param_grid=param_grid, scoring='max_error', cv=kf, n_jobs=-1)\n",
    "# perform the search\n",
    "results = search1.fit(X_train, Y_train)\n",
    "pos=(-1)* results.best_score_\n",
    "# summarize best\n",
    "print('Best  max_error: %.3f' % pos)\n",
    "print('Best Config: %s' % results.best_params_)\n",
    "# summarize all\n",
    "means = results.cv_results_['mean_test_score']\n",
    "params = results.cv_results_['params']\n",
    "for mean, param in zip(means, params):\n",
    "    print(\">%.3f with: %r\" % (mean * -1, param))"
   ]
  },
  {
   "cell_type": "code",
   "execution_count": null,
   "id": "5bfbaeea",
   "metadata": {},
   "outputs": [],
   "source": []
  },
  {
   "cell_type": "code",
   "execution_count": 8,
   "id": "9f1e9cae",
   "metadata": {},
   "outputs": [
    {
     "name": "stdout",
     "output_type": "stream",
     "text": [
      "Best  neg_root_mean_squared_error: 0.239\n",
      "Best Config: {'alpha': 0.001, 'kernel': DotProduct(sigma_0=10)}\n",
      ">3.326 with: {'alpha': 0.01, 'kernel': RBF(length_scale=0.1)}\n",
      ">0.292 with: {'alpha': 0.01, 'kernel': RBF(length_scale=10)}\n",
      ">3.326 with: {'alpha': 0.001, 'kernel': RBF(length_scale=0.1)}\n",
      ">0.601 with: {'alpha': 0.001, 'kernel': RBF(length_scale=10)}\n",
      ">0.239 with: {'alpha': 0.01, 'kernel': DotProduct(sigma_0=0.1)}\n",
      ">0.239 with: {'alpha': 0.01, 'kernel': DotProduct(sigma_0=10)}\n",
      ">0.239 with: {'alpha': 0.001, 'kernel': DotProduct(sigma_0=0.1)}\n",
      ">0.239 with: {'alpha': 0.001, 'kernel': DotProduct(sigma_0=10)}\n"
     ]
    }
   ],
   "source": [
    "# define grid\n",
    "grid1 = dict()\n",
    "grid1['kernel'] = [ 'RBF', 'sigmoid']\n",
    "sco=['neg_mean_squared_error','neg_median_absolute_error','r2']\n",
    "\n",
    "param_grid = [{\n",
    "    \"alpha\":  [1e-2, 1e-3],\n",
    "    \"kernel\": [RBF(l) for l in np.logspace(-1, 1, 2)]\n",
    "}, {\n",
    "    \"alpha\":  [1e-2, 1e-3],\n",
    "    \"kernel\": [DotProduct(sigma_0) for sigma_0 in np.logspace(-1, 1, 2)]\n",
    "}]\n",
    "\n",
    "\n",
    "# define search\n",
    "\n",
    "search1 = GridSearchCV(gaussian, param_grid=param_grid, scoring='neg_root_mean_squared_error', cv=kf, n_jobs=-1)\n",
    "# perform the search\n",
    "results = search1.fit(X_train, Y_train)\n",
    "pos=(-1)* results.best_score_\n",
    "# summarize best\n",
    "print('Best  neg_root_mean_squared_error: %.3f' % pos)\n",
    "print('Best Config: %s' % results.best_params_)\n",
    "# summarize all\n",
    "means = results.cv_results_['mean_test_score']\n",
    "params = results.cv_results_['params']\n",
    "for mean, param in zip(means, params):\n",
    "    print(\">%.3f with: %r\" % (mean * -1, param))"
   ]
  },
  {
   "cell_type": "code",
   "execution_count": null,
   "id": "c9c46c1a",
   "metadata": {},
   "outputs": [],
   "source": []
  },
  {
   "cell_type": "code",
   "execution_count": null,
   "id": "9168132c",
   "metadata": {},
   "outputs": [],
   "source": []
  },
  {
   "cell_type": "code",
   "execution_count": 42,
   "id": "d341ef38",
   "metadata": {},
   "outputs": [],
   "source": [
    "#MODELO DE gaussian\n",
    "#Definir la cantidad de datos que se asignarán al conjunto de entrenamiento y de prueba\n",
    "X_train, X_test, Y_train, Y_test = train_test_split(X, Y, test_size=0.2, random_state=0)\n",
    "#print(X_train, X_test, y_train, y_test)\n",
    "#Definir elementos para evaluación de los modelos\n",
    "\n",
    "kf = KFold(n_splits=5)\n",
    "gaussian = GaussianProcessRegressor()\n",
    "\n",
    "\n",
    "#sv.fit(X_train, y_train)\n",
    "\n",
    "#scores = cross_val_score(sv, X_train, y_train, cv=kf, scoring=\"r2\")\n",
    "#print(\"Metricas cross_validation\", scores)"
   ]
  },
  {
   "cell_type": "code",
   "execution_count": 44,
   "id": "44bcf0e4",
   "metadata": {
    "scrolled": true
   },
   "outputs": [
    {
     "name": "stdout",
     "output_type": "stream",
     "text": [
      "Best  r2: 0.228\n",
      "Best Config: {'alpha': 0.001, 'kernel': DotProduct(sigma_0=10)}\n",
      ">321.729 with: {'alpha': 0.01, 'kernel': RBF(length_scale=0.1)}\n",
      ">10.659 with: {'alpha': 0.01, 'kernel': RBF(length_scale=10)}\n",
      ">321.729 with: {'alpha': 0.001, 'kernel': RBF(length_scale=0.1)}\n",
      ">16.756 with: {'alpha': 0.001, 'kernel': RBF(length_scale=10)}\n",
      ">0.231 with: {'alpha': 0.01, 'kernel': DotProduct(sigma_0=0.1)}\n",
      ">0.231 with: {'alpha': 0.01, 'kernel': DotProduct(sigma_0=10)}\n",
      ">0.230 with: {'alpha': 0.001, 'kernel': DotProduct(sigma_0=0.1)}\n",
      ">0.228 with: {'alpha': 0.001, 'kernel': DotProduct(sigma_0=10)}\n"
     ]
    }
   ],
   "source": [
    "# define grid\n",
    "grid1 = dict()\n",
    "grid1['kernel'] = [ 'RBF', 'sigmoid']\n",
    "sco=['neg_mean_squared_error','neg_median_absolute_error','r2']\n",
    "\n",
    "param_grid = [{\n",
    "    \"alpha\":  [1e-2, 1e-3],\n",
    "    \"kernel\": [RBF(l) for l in np.logspace(-1, 1, 2)]\n",
    "}, {\n",
    "    \"alpha\":  [1e-2, 1e-3],\n",
    "    \"kernel\": [DotProduct(sigma_0) for sigma_0 in np.logspace(-1, 1, 2)]\n",
    "}]\n",
    "\n",
    "\n",
    "# define search\n",
    "\n",
    "search1 = GridSearchCV(gaussian, param_grid=param_grid, scoring='r2', cv=kf, n_jobs=-1)\n",
    "# perform the search\n",
    "results = search1.fit(X_train, Y_train)\n",
    "pos=(-1)* results.best_score_\n",
    "# summarize best\n",
    "print('Best  r2: %.3f' % pos)\n",
    "print('Best Config: %s' % results.best_params_)\n",
    "# summarize all\n",
    "means = results.cv_results_['mean_test_score']\n",
    "params = results.cv_results_['params']\n",
    "for mean, param in zip(means, params):\n",
    "    print(\">%.3f with: %r\" % (mean * -1, param))"
   ]
  },
  {
   "cell_type": "code",
   "execution_count": 45,
   "id": "50a89b30",
   "metadata": {},
   "outputs": [
    {
     "name": "stdout",
     "output_type": "stream",
     "text": [
      "Best  neg_mean_squarrred_eor: 0.072\n",
      "Best Config: {'alpha': 0.001, 'kernel': DotProduct(sigma_0=10)}\n",
      ">12.467 with: {'alpha': 0.01, 'kernel': RBF(length_scale=0.1)}\n",
      ">0.471 with: {'alpha': 0.01, 'kernel': RBF(length_scale=10)}\n",
      ">12.467 with: {'alpha': 0.001, 'kernel': RBF(length_scale=0.1)}\n",
      ">0.693 with: {'alpha': 0.001, 'kernel': RBF(length_scale=10)}\n",
      ">0.072 with: {'alpha': 0.01, 'kernel': DotProduct(sigma_0=0.1)}\n",
      ">0.072 with: {'alpha': 0.01, 'kernel': DotProduct(sigma_0=10)}\n",
      ">0.072 with: {'alpha': 0.001, 'kernel': DotProduct(sigma_0=0.1)}\n",
      ">0.072 with: {'alpha': 0.001, 'kernel': DotProduct(sigma_0=10)}\n"
     ]
    }
   ],
   "source": [
    "# define grid\n",
    "grid1 = dict()\n",
    "grid1['kernel'] = [ 'RBF', 'sigmoid']\n",
    "sco=['neg_mean_squared_error','neg_median_absolute_error','r2']\n",
    "\n",
    "param_grid = [{\n",
    "    \"alpha\":  [1e-2, 1e-3],\n",
    "    \"kernel\": [RBF(l) for l in np.logspace(-1, 1, 2)]\n",
    "}, {\n",
    "    \"alpha\":  [1e-2, 1e-3],\n",
    "    \"kernel\": [DotProduct(sigma_0) for sigma_0 in np.logspace(-1, 1, 2)]\n",
    "}]\n",
    "\n",
    "\n",
    "# define search\n",
    "\n",
    "search1 = GridSearchCV(gaussian, param_grid=param_grid, scoring='neg_mean_squared_error', cv=kf, n_jobs=-1)\n",
    "# perform the search\n",
    "results = search1.fit(X_train, Y_train)\n",
    "pos=(-1)* results.best_score_\n",
    "# summarize best\n",
    "print('Best  neg_mean_squarrred_eor: %.3f' % pos)\n",
    "print('Best Config: %s' % results.best_params_)\n",
    "# summarize all\n",
    "means = results.cv_results_['mean_test_score']\n",
    "params = results.cv_results_['params']\n",
    "for mean, param in zip(means, params):\n",
    "    print(\">%.3f with: %r\" % (mean * -1, param))"
   ]
  },
  {
   "cell_type": "code",
   "execution_count": 46,
   "id": "c45eab98",
   "metadata": {},
   "outputs": [
    {
     "name": "stdout",
     "output_type": "stream",
     "text": [
      "Best  neg_root_mean_squared_error: 0.255\n",
      "Best Config: {'alpha': 0.001, 'kernel': DotProduct(sigma_0=10)}\n",
      ">3.529 with: {'alpha': 0.01, 'kernel': RBF(length_scale=0.1)}\n",
      ">0.627 with: {'alpha': 0.01, 'kernel': RBF(length_scale=10)}\n",
      ">3.529 with: {'alpha': 0.001, 'kernel': RBF(length_scale=0.1)}\n",
      ">0.740 with: {'alpha': 0.001, 'kernel': RBF(length_scale=10)}\n",
      ">0.255 with: {'alpha': 0.01, 'kernel': DotProduct(sigma_0=0.1)}\n",
      ">0.255 with: {'alpha': 0.01, 'kernel': DotProduct(sigma_0=10)}\n",
      ">0.255 with: {'alpha': 0.001, 'kernel': DotProduct(sigma_0=0.1)}\n",
      ">0.255 with: {'alpha': 0.001, 'kernel': DotProduct(sigma_0=10)}\n"
     ]
    }
   ],
   "source": [
    "# define grid\n",
    "grid1 = dict()\n",
    "grid1['kernel'] = [ 'RBF', 'sigmoid']\n",
    "sco=['neg_mean_squared_error','neg_median_absolute_error','r2']\n",
    "\n",
    "param_grid = [{\n",
    "    \"alpha\":  [1e-2, 1e-3],\n",
    "    \"kernel\": [RBF(l) for l in np.logspace(-1, 1, 2)]\n",
    "}, {\n",
    "    \"alpha\":  [1e-2, 1e-3],\n",
    "    \"kernel\": [DotProduct(sigma_0) for sigma_0 in np.logspace(-1, 1, 2)]\n",
    "}]\n",
    "\n",
    "\n",
    "# define search\n",
    "\n",
    "search1 = GridSearchCV(gaussian, param_grid=param_grid, scoring='neg_root_mean_squared_error', cv=kf, n_jobs=-1)\n",
    "# perform the search\n",
    "results = search1.fit(X_train, Y_train)\n",
    "pos=(-1)* results.best_score_\n",
    "# summarize best\n",
    "print('Best  neg_root_mean_squared_error: %.3f' % pos)\n",
    "print('Best Config: %s' % results.best_params_)\n",
    "# summarize all\n",
    "means = results.cv_results_['mean_test_score']\n",
    "params = results.cv_results_['params']\n",
    "for mean, param in zip(means, params):\n",
    "    print(\">%.3f with: %r\" % (mean * -1, param))"
   ]
  },
  {
   "cell_type": "code",
   "execution_count": null,
   "id": "f6c56691",
   "metadata": {},
   "outputs": [],
   "source": []
  }
 ],
 "metadata": {
  "kernelspec": {
   "display_name": "Python 3",
   "language": "python",
   "name": "python3"
  },
  "language_info": {
   "codemirror_mode": {
    "name": "ipython",
    "version": 3
   },
   "file_extension": ".py",
   "mimetype": "text/x-python",
   "name": "python",
   "nbconvert_exporter": "python",
   "pygments_lexer": "ipython3",
   "version": "3.8.8"
  }
 },
 "nbformat": 4,
 "nbformat_minor": 5
}
